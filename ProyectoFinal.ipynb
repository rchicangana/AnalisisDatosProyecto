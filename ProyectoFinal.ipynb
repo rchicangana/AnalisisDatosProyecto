{
  "cells": [
    {
      "cell_type": "markdown",
      "metadata": {
        "id": "view-in-github",
        "colab_type": "text"
      },
      "source": [
        "<a href=\"https://colab.research.google.com/github/rchicangana/AnalisisDatosProyecto/blob/IVAN/ProyectoFinal.ipynb\" target=\"_parent\"><img src=\"https://colab.research.google.com/assets/colab-badge.svg\" alt=\"Open In Colab\"/></a>"
      ]
    },
    {
      "cell_type": "markdown",
      "metadata": {},
      "source": [
        "# ESTADO DEL ARTE\n",
        "\n",
        "- La imposibilidad de almacenar la energía eléctrica hace de la predicción una herramienta indispensable a la hora de gestionar eficientemente su producción. La modelización de la\n",
        "demanda de energía eléctrica permite al ente productor contar con un conocimiento más refinado de los mercados y de los usuarios del sistema, así como con una mejor posición mediante la reducción de la incertidumbre en la toma de decisiones.  \n",
        "\n",
        "- Se consultaron las Bases de Datos SciELO (Scientific Electronic Library Online) y RedAlyc (Red de Revistas Científicas de América Latina y el Caribe, España y Portugal), EBSCO, Springer Link, IEEE Xplorer y Google Académico.\n",
        "\n",
        "- Para medir la relevancia y pertinencia de los documentos se tomaron como indicadores: que los artículos presentaran las técnicas utilizadas basadas en Inteligencia Artificial, así como metodologías y estudios de casos concretos dentro de las áreas que abarca la ingeniería eléctrica.\n",
        "\n",
        "- Destacan dentro de las áreas de impacto la predicción de la producción y consumo eléctrico, lo cual se refiere a estudios realizados para establecer valores futuros del consumo eléctrico de una edificación particular, un complejo habitacional, industrial o incluso una ciudad o país completos. Como se indicó previamente, la adecuada predicción de estos datos es de gran importancia para planificar las fuentes de energía eléctrica y los costos asociados para los consumidores.\n",
        "\n",
        "- La inteligencia artificial ofrece en la actualidad una diversidad de técnicas para la predicción de variables. Es la presencia de estas técnicas, en la forma de algoritmos implementados, que permiten relacionar las publicaciones con la inteligencia artificial. La diversidad de opciones de algoritmos generados se refleja en los artículos analizados\n",
        "Las redes neuronales artificiales y las máquinas de vectores de soporte son las predominantes entre todas las utilizadas. Es importante destacar que es una práctica común la utilización de más de una técnica en un estudio de predicción, para realizar comparaciones y proponer la adopción de aquella técnica que haya dado mejores resultados. tambien se comentan tecnicas como Gradient Boosting y Modelos de Markov.\n",
        "\n",
        "Entre las variables utilizadas para los analisis se encuentran principalmente la Temperatura, Humedad y la fecha de medicion\n",
        "\n",
        "\n",
        "-Los resultados muestran una tendencia creciente en el interés de aprovechar las posibilidades de la inteligencia artificial a la tarea de predicción de variables, y confirman la mayor representatividad de los casos en la predicción de producción y consumo energético, y en variables relacionadas con energías renovables, tales como las condiciones del viento y de energía solar. La predominancia del idioma de las publicaciones es el inglés, y en países como China, Estados Unidos y Colombia es donde se ha dado la mayor cantidad de estudios.\n",
        "\n",
        "-Los artículos más citados en la temática tratan sobre predicción de consumo eléctrico en edificaciones particulares, y de predicción de energía solar. Las predicciones son de utilidad para labores de planificación, estimación de costos y previsión de escenarios de inversión y aprovechamiento de recursos.\n",
        "\n",
        "-El análisis realizado en el estado del arte deja patente la actualidad y necesidad del tema de inteligencia artificial para la ingeniería eléctrica, especialmente el conocimiento de las técnicas más utilizadas para los sistemas de predicción determinadas en el presente estudio, como lo son las redes neuronales artificiales, las máquinas de vectores de soporte y los árboles de decisión. Por otra parte, el creciente interés que muestran las referencias puede interpretarse como un área de oportunidad para aprovechar las ventajas de los estudios de predicción de variables con los nuevos métodos de inteligencia artificial en lugares donde aún no se han implementado.\n",
        "\n",
        "\n",
        "## Articulos consultados\n",
        "\n",
        "- https://www.sciencedirect.com/science/article/pii/S2352484724007315\n",
        "- https://ciencialatina.org/index.php/cienciala/article/view/2502\n",
        "- https://www.revistaespacios.com/a17v38n22/a17v38n21p03.pdf\n",
        "- http://www.scielo.org.co/scielo.php?script=sci_arttext&pid=S1794-12372016000200009\n",
        "- https://pmc.ncbi.nlm.nih.gov/articles/PMC10948898/\n",
        "- https://www.redalyc.org/pdf/462/46247652001.pdf\n",
        "- https://www.kaggle.com/datasets/fedesoriano/electric-power-consumption\n",
        "\n",
        "### Los articulos mas citados en la publicaciones fueron\n",
        "\n",
        "\n",
        "| Autores                                                       | Título del   artículo                                                                                                                                                                                        | Nombre de   la revista/publicación                           | Año  | Cantidad de citas |\n",
        "|---------------------------------------------------------------|--------------------------------------------------------------------------------------------------------------------------------------------------------------------------------------------------------------|--------------------------------------------------------------|------|-------------------|\n",
        "| Gonzalez,   P. A., y Zamarreno, J. M..                        | Prediction of hourly energy   consumption in buildings based on a feedback artificial neural network                                                                                                         | Energy and buildings                                         | 2005 | 392               |\n",
        "| Jain,   R. K., Smith, K. M., Culligan, P. J., y Taylor, J. E. | Forecasting energy consumption   of multi-family residential buildings using support vector regression:   Investigating the impact of temporal and spatial monitoring granularity on   performance accuracy. | Applied Energy                                               | 2014 | 379               |\n",
        "| Sharma,   N., Sharma, P., Irwin, D., y Shenoy, P.             | Predicting solar generation from   weather forecasts using machine learning.                                                                                                                                 | IEEE international conference on   smart grid communications | 2011 | 370               |\n",
        "| Yang,   J., Rivard, H., y Zmeureanu, R.                       | On-line building energy   prediction using adaptive artificial neural networks.                                                                                                                              | Energy and buildings,                                        | 2005 | 368               |\n",
        "| Ekici,   B. B., y Aksoy, U. T.                                | Prediction of building energy   consumption by using artificial neural networks.                                                                                                                             | Advances in Engineering   Software.                          | 2009 | 358               |\n",
        "| Mocanu,   E., Nguyen, P. H., Gibescu, M., y Kling, W. L.      | Deep learning for estimating   building energy consumption.                                                                                                                                                  | Sustainable Energy, Grids and   Networks.                    | 2016 | 342               |\n",
        "| Edwards,   R. E., New, J., y Parker, L. E.                    | Predicting future hourly   residential electrical consumption: A machine learning case study.                                                                                                                | Energy and Buildings.                                        | 2012 | 275               |\n",
        "| Ahmad,   M. W., Mourshed, M., y Rezgui, Y.                    | Trees vs Neurons: Comparison   between random forest and ANN for high-resolution prediction of building   energy consumption.                                                                                | Energy and Buildings                                         | 2017 | 263               |\n",
        "| Tüfekci,   P.                                                 | Prediction of full load   electrical power output of a base load operated combined cycle power plant   using machine learning methods.                                                                       | International Journal of   Electrical Power & Energy Systems | 2014 | 241               |\n",
        "| Candanedo,   L. M., Feldheim, V., y Deramaix, D.              | Bélgica                                                                                                                                                                                                      | Energy and buildings                                         | 2017 | 2                 |\n",
        "\n",
        "\n"
      ]
    },
    {
      "cell_type": "markdown",
      "metadata": {
        "id": "yVIuGSCNquud"
      },
      "source": [
        "# 1  Introduccion\n",
        "\n",
        "El análisis exploratorio de datos es una etapa fundamental en cualquier proyecto de Inteligencia Artificial y Ciencia de Datos, puesto que permite entender las características y patrones en los datos, así como identificar relaciones entre variables.\n",
        "\n",
        "A continuación se presenta un estudio basado en datos de consumo de energía eléctrica horaria registrados en Cali, Colombia, junto con las temperaturas correspondientes a cada hora. El objetivo principal es explorar la relación entre estas dos variables y, posteriormente, aplicar diferentes modelos para realizar el pronósticos de corto plazo del demanda de energía."
      ]
    },
    {
      "cell_type": "markdown",
      "metadata": {
        "id": "qyGVSbOMq_0K"
      },
      "source": [
        "# 2  Contexto\n",
        "\n",
        "La demanda de energía eléctrica en una ciudad se ve inlfuenciada por muchos factores, como la temperatura, factores sociales, cronograma de produccion de grandes clientes, entre otros.\n",
        "\n",
        "En regiones con climas variables, como es el caso de muchas ciudades Colombianas, la demanda es afectada por el uso intensivo de sistemas de refrigeración en épocas calurosas.\n",
        "\n",
        "Los datos utilizados en este análisis incluyen mediciones horarias del consumo de energía y la temperatura registrada en la misma franja horaria, tipos de dia, mes y año. Lo que permite explorar la correlación entre estas variables.\n",
        "\n",
        "Adicionalmente, se busca evaluar el desempeño de diferentes modelos como regresiones lineales, redes neuronales y modelos basados en árboles de decisión, para predecir el consumo de energía en un horizonte de corto plazo."
      ]
    },
    {
      "cell_type": "markdown",
      "metadata": {
        "id": "LvcVK9n2rB4e"
      },
      "source": [
        "## 2.1  Descripción de los campos\n",
        "\n",
        "- FECHA: Fecha en formato ISO de la lectura del consumo\n",
        "- TEMPERATURA: Temperatura en grados Centigrados al momento de la toma del dato\n",
        "- CONSUMO: Variable objetvio medido en MVA"
      ]
    },
    {
      "cell_type": "code",
      "execution_count": 63,
      "metadata": {
        "collapsed": true,
        "id": "2eSjd_Fz7WiZ"
      },
      "outputs": [],
      "source": [
        "import numpy as np\n",
        "import pandas as pd\n",
        "import seaborn as sns\n",
        "import matplotlib.pyplot as plt\n",
        "from sklearn.preprocessing import MinMaxScaler\n",
        "from sklearn.model_selection import train_test_split\n",
        "from sklearn.linear_model import LinearRegression\n",
        "from sklearn.metrics import mean_squared_error, r2_score, mean_absolute_error, median_absolute_error\n",
        "from sklearn.neural_network import MLPRegressor\n",
        "from sklearn.tree import DecisionTreeRegressor\n",
        "from sklearn.ensemble import RandomForestRegressor\n",
        "from sklearn.model_selection import GridSearchCV\n",
        "from sklearn.decomposition import PCA\n",
        "from sklearn.inspection import permutation_importance\n",
        "import holidays\n",
        "#import tensorflow as tf \n",
        "#from tensorflow import keras\n",
        "\n",
        "df = pd.read_csv('Data/datasetEmcali.csv')\n",
        "\n"
      ]
    },
    {
      "cell_type": "code",
      "execution_count": null,
      "metadata": {},
      "outputs": [],
      "source": [
        "print(\"primeras filas \\n\")\n",
        "print(df.head())\n",
        "\n",
        "\n",
        "print(\"se describen las columnas \\n\")\n",
        "print(df.info())\n",
        "\n",
        "print(\"dimensiones \\n\")\n",
        "print(df.shape)"
      ]
    },
    {
      "cell_type": "markdown",
      "metadata": {
        "id": "yUTgDLYErbbx"
      },
      "source": [
        "# 3  Análisis exploratorio\n"
      ]
    },
    {
      "cell_type": "markdown",
      "metadata": {
        "id": "d1t0tE05rdWs"
      },
      "source": [
        "## 3.1  Análisis de estructura\n"
      ]
    },
    {
      "cell_type": "markdown",
      "metadata": {
        "id": "sSaKvv-pKkYL"
      },
      "source": [
        "Se realiza un analisis de la forma del dataset, se relacionan tipos de datos, estadisticas descriptivas y valores nulos.\n",
        "\n",
        "Se adicionan columnas, basadas en la fecha, con la hipotesis que esto permitira al modelo entender e interpretar mejor los datos."
      ]
    },
    {
      "cell_type": "markdown",
      "metadata": {},
      "source": [
        "Tratamiento de dataset Humedad"
      ]
    },
    {
      "cell_type": "code",
      "execution_count": null,
      "metadata": {},
      "outputs": [],
      "source": [
        "#Defino el formato de la fecha\n",
        "df[\"FECHA\"] = pd.to_datetime(df[\"FECHA\"], format=\"mixed\", errors=\"coerce\")\n",
        "\n",
        "# Cargar datasets de humedad\n",
        "humedad_files = glob.glob(\"Data/reporte_sisaire-humedad-*.csv\")\n",
        "df_humedad_list = [pd.read_csv(file) for file in humedad_files]\n",
        "df_humedad = pd.concat(df_humedad_list)\n",
        "\n",
        "# Convertir fechas en el dataset de humedad\n",
        "df_humedad[\"Fecha inicial\"] = pd.to_datetime(df_humedad[\"Fecha inicial\"], format=\"%Y-%m-%d %H:%M\")\n",
        "\n",
        "# Promediar la humedad por hora\n",
        "df_humedad_avg = df_humedad.groupby(\"Fecha inicial\")[\"HAire2\"].mean().reset_index()\n",
        "df_humedad_avg.rename(columns={\"Fecha inicial\": \"FECHA\", \"HAire2\": \"HUMIDITY\"}, inplace=True)\n",
        "\n",
        "df_humedad_avg.head()"
      ]
    },
    {
      "cell_type": "markdown",
      "metadata": {},
      "source": [
        "Tratamiento de dataset Temperatura"
      ]
    },
    {
      "cell_type": "code",
      "execution_count": null,
      "metadata": {},
      "outputs": [],
      "source": [
        "# Cargar datasets de velocidad del viento\n",
        "viento_files = glob.glob(\"Data/reporte_sisaire-vViento-*.csv\")\n",
        "df_viento_list = [pd.read_csv(file) for file in viento_files]\n",
        "df_viento = pd.concat(df_viento_list)\n",
        "\n",
        "# Convertir fechas en el dataset de viento\n",
        "df_viento[\"Fecha inicial\"] = pd.to_datetime(df_viento[\"Fecha inicial\"], format=\"%Y-%m-%d %H:%M\")\n",
        "\n",
        "# Promediar la velocidad del viento por hora\n",
        "df_viento_avg = df_viento.groupby(\"Fecha inicial\")[\"VViento\"].mean().reset_index()\n",
        "df_viento_avg.rename(columns={\"Fecha inicial\": \"FECHA\", \"VViento\": \"WIND\"}, inplace=True)\n",
        "\n",
        "df_viento_avg.head()"
      ]
    },
    {
      "cell_type": "markdown",
      "metadata": {},
      "source": [
        "Union de los dataset"
      ]
    },
    {
      "cell_type": "code",
      "execution_count": 64,
      "metadata": {
        "colab": {
          "base_uri": "https://localhost:8080/"
        },
        "collapsed": true,
        "id": "HXUvfE-D9Ngq",
        "outputId": "70912245-9da2-4cfb-ab0e-1465c2da52a8"
      },
      "outputs": [
        {
          "output_type": "stream",
          "name": "stdout",
          "text": [
            "Primeras filas\n",
            "                 FECHA  TEMPERATURA  CONSUMO\n",
            "0 2017-12-01 00:00:00         27.9    409.0\n",
            "1 2017-12-01 01:00:00         29.0    387.0\n",
            "2 2017-12-01 02:00:00         29.1    378.0\n",
            "3 2017-12-01 03:00:00         28.2    370.0\n",
            "4 2017-12-01 04:00:00         26.7    364.0 /n\n",
            "Forma de lo datos: (29808, 3)\n",
            "\n",
            "Tipo de datos por columnas:\n",
            "\n",
            " FECHA          datetime64[ns]\n",
            "TEMPERATURA           float64\n",
            "CONSUMO               float64\n",
            "dtype: object\n",
            "\n",
            "Estadisticas descriptivas:\n",
            "\n",
            "                      FECHA   TEMPERATURA       CONSUMO\n",
            "count                29808  29616.000000  29520.000000\n",
            "mean   2019-08-13 23:30:00     24.127714    455.574139\n",
            "min    2017-12-01 00:00:00     16.100000    227.000000\n",
            "25%    2018-10-07 11:45:00     21.800000    372.000000\n",
            "50%    2019-08-13 23:30:00     23.600000    447.000000\n",
            "75%    2020-06-19 11:15:00     26.300000    541.000000\n",
            "max    2021-04-25 23:00:00     34.000000    676.000000\n",
            "std                    NaN      3.163467     95.616579\n",
            "\n",
            "Valores Faltantes:\n",
            "\n",
            " FECHA            0\n",
            "TEMPERATURA    192\n",
            "CONSUMO        288\n",
            "dtype: int64\n",
            "\n",
            "Valores Faltantes(%):\n",
            "\n",
            " FECHA          0.000000\n",
            "TEMPERATURA    0.644122\n",
            "CONSUMO        0.966184\n",
            "dtype: float64\n"
          ]
        }
      ],
      "source": [
        "df = pd.read_csv('Data/datasetEmcali.csv')\n",
        "\n",
        "df['FECHA'] = pd.to_datetime(df['FECHA'], format='mixed', errors='coerce')\n",
        "df['CONSUMO'] = pd.to_numeric(df['CONSUMO'], errors='coerce')\n",
        "df['TEMPERATURA'] = pd.to_numeric(df['TEMPERATURA'], errors='coerce')\n",
        "\n",
        "df['HUMIDITY'] = pd.to_numeric(df['HUMIDITY'], errors='coerce')\n",
        "\n",
        "df['WIND'] = pd.to_numeric(df['WIND'], errors='coerce')\n",
        "\n",
        "# Elimino las filas que tienen valores nulos en 'FECHA' y 'CONSUMO', 'TEMPERATURA', 'HUMEDAD', 'VIENTO'\n",
        "\n",
        "df = df.dropna(subset=['FECHA', 'CONSUMO', 'TEMPERATURA', 'HUMIDITY', 'WIND'])\n",
        "    \n",
        "\n",
        "\n",
        "def es_festivo_colombia(fecha):\n",
        "    \"\"\"Verifica si una fecha es festivo en Colombia.\"\"\"\n",
        "    co_holidays = holidays.CO(years=fecha.year)\n",
        "    return fecha in co_holidays\n",
        "df['Is_holiday'] = df['FECHA'].apply(es_festivo_colombia)\n",
        "\n",
        "# Extract numerical features from 'FECHA'\n",
        "df['Year'] = df['FECHA'].dt.year\n",
        "df['Month'] = df['FECHA'].dt.month\n",
        "df['Day'] = df['FECHA'].dt.day\n",
        "df['Hour'] = df['FECHA'].dt.hour\n",
        "df['Dayofweek'] = df['FECHA'].dt.dayofweek\n",
        "df['Dayofyear'] = df['FECHA'].dt.dayofyear\n",
        "df['Weekofyear'] = df['FECHA'].dt.isocalendar().week\n",
        "df['Is_month_end'] = df['FECHA'].dt.is_month_end\n",
        "df['Is_month_start'] = df['FECHA'].dt.is_month_start\n",
        "df['Is_quarter_end'] = df['FECHA'].dt.is_quarter_end\n",
        "df['Is_quarter_start'] = df['FECHA'].dt.is_quarter_start\n",
        "df['Is_year_end'] = df['FECHA'].dt.is_year_end\n",
        "df['Is_year_start'] = df['FECHA'].dt.is_year_start\n",
        "\n",
        "# Eliminar la columna 'FECHA'\n",
        "df = df.drop('FECHA', axis=1)\n",
        "\n",
        "# Convert categorical columns to categorical\n",
        "categorical_cols = ['Year', 'Month', 'Day', 'Hour', 'Dayofweek', 'Dayofyear', 'Weekofyear']\n",
        "for col in categorical_cols:\n",
        "    df[col] = df[col].astype('category')\n",
        "\n",
        "print(\"Forma de lo datos:\", df.shape)\n",
        "print(\"\\nTipo de datos por columnas:\\n\\n\", df.dtypes)\n",
        "print(\"\\nEstadisticas descriptivas:\\n\\n\", df.describe())\n",
        "print(\"\\nValores Faltantes:\\n\\n\", df.isnull().sum())\n",
        "print(\"\\nValores Faltantes(%):\\n\\n\", (df.isnull().sum() / len(df)) * 100)"
      ]
    },
    {
      "cell_type": "markdown",
      "metadata": {
        "id": "LjYYx9KjjuRY"
      },
      "source": [
        "se notan valores nulos"
      ]
    },
    {
      "cell_type": "markdown",
      "metadata": {
        "id": "u3l8_9rgre7O"
      },
      "source": [
        "## 3.2  Análisis de variables numericas y continuas\n"
      ]
    },
    {
      "cell_type": "code",
      "execution_count": null,
      "metadata": {
        "colab": {
          "base_uri": "https://localhost:8080/",
          "height": 1000
        },
        "collapsed": true,
        "id": "yqqpWp6kF8_9",
        "outputId": "a928d5b8-8ee9-4309-b794-4079981b964c"
      },
      "outputs": [],
      "source": [
        "\n",
        "numerical_columns = ['CONSUMO', 'TEMPERATURA', 'HUMIDITY', 'WIND']\n",
        "\n",
        "correlation_matrix = df[numerical_columns].corr()\n",
        "\n",
        "plt.figure(figsize=(10, 8))\n",
        "\n",
        "#Matriz de correlación del DataFrame con valores de correlación entre -1 y 1, utilizando una paleta de colores verde-amarillo-rojo para resaltar las relaciones positivas y negativas, respectivamente.\n",
        "sns.heatmap(correlation_matrix, annot=True, cmap='RdYlGn', fmt=\"0.4f\")\n",
        "\n",
        "plt.title('Correlation Matrix of Numerical Columns')\n",
        "\n",
        "plt.show()\n",
        "\n",
        "continuous_cols = ['TEMPERATURA', 'CONSUMO', 'HUMIDITY', 'WIND']\n",
        "\n",
        "num_cols = 2  # columns per row\n",
        "num_rows = (len(continuous_cols) * 2 + num_cols - 1) // num_cols # Calculate the rows needed.\n",
        "\n",
        "# Create subplots in a grid\n",
        "fig, axes = plt.subplots(num_rows, num_cols, figsize=(20, 5 * num_rows))  # Adjust figsize as needed\n",
        "axes = axes.flatten()  # Flatten the 2D array of axes for easy iteration\n",
        "\n",
        "for i, col in enumerate(continuous_cols):\n",
        "    # Histogram\n",
        "    axes[i * 2].hist(df[col], bins=20)\n",
        "    axes[i * 2].set_title(f'Distribution of {col}')\n",
        "\n",
        "    # Scatterplot\n",
        "    sns.scatterplot(x=col, y='CONSUMO', data=df, ax=axes[i * 2 + 1])\n",
        "    axes[i * 2 + 1].set_title(f'CONSUMO vs. {col}')\n",
        "\n",
        "    correlation = df[col].corr(df['CONSUMO'])\n",
        "    print(f\"Correlation between {col} and CONSUMO: {correlation}\")\n",
        "\n",
        "# Remove any unused subplots\n",
        "for j in range(len(continuous_cols) * 2, num_rows * num_cols):\n",
        "    fig.delaxes(axes[j])\n",
        "\n",
        "plt.tight_layout()\n",
        "plt.show()\n"
      ]
    },
    {
      "cell_type": "markdown",
      "metadata": {
        "id": "h5KkK9jpriLJ"
      },
      "source": [
        "## 3.3  Análisis de variables Categoricas\n"
      ]
    },
    {
      "cell_type": "markdown",
      "source": [
        "Las columna fechas contiene información temporal (día, mes, año, hora, etc.), sin embargo, para que los diferentes modelos pueda aprovechar la información de la variable fecha, es necesario transformarla en características categóricas.\n",
        "A continuación, se trata la columna fecha:"
      ],
      "metadata": {
        "id": "oL_BSejjpJx-"
      }
    },
    {
      "cell_type": "markdown",
      "source": [
        "### Crear columna con **Dias festivos** en **Colombia**"
      ],
      "metadata": {
        "id": "y7PMTtZprm2u"
      }
    },
    {
      "cell_type": "code",
      "execution_count": null,
      "metadata": {
        "colab": {
          "base_uri": "https://localhost:8080/",
          "height": 505
        },
        "id": "Z8-F6rfFtPpW",
        "outputId": "a8d9f560-c43e-441a-a051-7471ff50ebfb"
      },
      "outputs": [],
      "source": [
        "num_cols = 4\n",
        "num_rows = (len(categorical_cols) * 2 + num_cols - 1) // num_cols\n",
        "fig, axes = plt.subplots(num_rows, num_cols, figsize=(20, 5 * num_rows))\n",
        "axes = axes.flatten()\n",
        "\n",
        "for i, col in enumerate(categorical_cols):\n",
        "    sns.boxplot(x=col, y='CONSUMO', data=df, ax=axes[i])\n",
        "    axes[i].set_title(f'CONSUMO vs. {col}')\n",
        "\n",
        "    # Remove any unused subplots\n",
        "for j in range(len(categorical_cols), num_rows * num_cols):\n",
        "    fig.delaxes(axes[j])\n",
        "\n",
        "plt.tight_layout()\n",
        "plt.show()"
      ],
      "metadata": {
        "colab": {
          "base_uri": "https://localhost:8080/",
          "height": 503
        },
        "id": "7EMij3Uqzb2D",
        "outputId": "f282ec01-dcc5-4fab-a753-84c882ed3342"
      },
      "execution_count": 68,
      "outputs": [
        {
          "output_type": "display_data",
          "data": {
            "text/plain": [
              "<Figure size 2000x2000 with 7 Axes>"
            ],
            "image/png": "[encoded data removed]"
          },
          "metadata": {}
        }
      ]
    },
    {
      "cell_type": "markdown",
      "metadata": {
        "id": "iY1UEVMcJ-02"
      },
      "source": [
        "- En la variable \"Year\" se puede evidenciar que los años 2020 y 2021 presentaron fenomenos sociales que impactaron directamente el consumo de eneriga en la ciudad de Cali. No existe en el dataset, una variable que permita modelar las restricciones a la movilidad en la pandemia y el paro nacional. *Se concidera prudente, sacar del estudio estos dos años.*\n",
        "- Se puede observar de \"Dayofweek\" que el consumo en los dias 1 a 4 tiene un comportamiento similar, en cambio los días 0, 5 y 6 se diferencian de los otros dias de la semana.\n",
        "\n"
      ]
    },
    {
      "cell_type": "markdown",
      "metadata": {
        "id": "wwMEHBMHrlkq"
      },
      "source": [
        "### Analisis de outliers y datos Atipicos\n"
      ]
    },
    {
      "cell_type": "markdown",
      "source": [
        "#### Eliminar datos atipicos"
      ],
      "metadata": {
        "id": "LzEAlPE4IimZ"
      }
    },
    {
      "cell_type": "markdown",
      "source": [
        "Como se menciono antes, se procede a eliminar los datos de los años 2020 y 2021."
      ],
      "metadata": {
        "id": "bBBfiVpAMjmo"
      }
    },
    {
      "cell_type": "code",
      "execution_count": null,
      "metadata": {
        "colab": {
          "base_uri": "https://localhost:8080/",
          "height": 965
        },
        "collapsed": true,
        "id": "1Pr_KHoLLQ97",
        "outputId": "8a7c0c70-69aa-41f5-92e7-1e0ad89a9b18"
      },
      "outputs": [],
      "source": [
        "df = df.drop(df[(df['Year'] == 2020) | (df['Year'] == 2021)].index)\n",
        "df = df.reset_index(drop=True)\n",
        "\n",
        "num_cols = 4\n",
        "num_rows = (len(categorical_cols) * 2 + num_cols - 1) // num_cols\n",
        "fig, axes = plt.subplots(num_rows, num_cols, figsize=(20, 5 * num_rows))\n",
        "axes = axes.flatten()\n",
        "\n",
        "for i, col in enumerate(categorical_cols):\n",
        "    sns.countplot(x=col, data=df, ax=axes[i * 2])\n",
        "    axes[i * 2].set_title(f'Frequency Distribution of {col}')\n",
        "    sns.boxplot(x=col, y='CONSUMO', data=df, ax=axes[i * 2 + 1])\n",
        "    axes[i * 2 + 1].set_title(f'CONSUMO vs. {col}')\n",
        "\n",
        "for j in range(len(categorical_cols) * 2, num_rows * num_cols):\n",
        "    fig.delaxes(axes[j])\n",
        "\n",
        "plt.tight_layout()  # Adjust subplot parameters to give specified padding.\n",
        "plt.show()"
      ]
    },
    {
      "cell_type": "markdown",
      "source": [
        "#### Analisis de Outliers"
      ],
      "metadata": {
        "id": "q27YOue-MtOU"
      }
    },
    {
      "cell_type": "code",
      "execution_count": null,
      "metadata": {
        "colab": {
          "base_uri": "https://localhost:8080/",
          "height": 1000
        },
        "id": "-8-oDHbBOnXw",
        "outputId": "a8367ddb-7ea6-459e-ccfd-e6f7114114a6"
      },
      "outputs": [],
      "source": [
        "# Columnas numéricas\n",
        "numerical_cols = ['TEMPERATURA', 'CONSUMO', 'HUMIDITY', 'WIND']\n",
        "# Box plots to visualize outliers\n",
        "plt.figure(figsize=(12, 6))\n",
        "for i, col in enumerate(numerical_cols):\n",
        "    plt.subplot(2, 3, i + 1)\n",
        "    sns.boxplot(y=df[col])\n",
        "    plt.title(f'Box Plot of {col}')\n",
        "plt.tight_layout()\n",
        "plt.show()\n",
        "\n",
        "# Descriptive statistics and IQR outlier detection\n",
        "for col in numerical_cols:\n",
        "    print(f\"\\nAnalysis for numerical variable: {col}\")\n",
        "    print(df[col].describe())\n",
        "\n",
        "    Q1 = df[col].quantile(0.25)\n",
        "    Q3 = df[col].quantile(0.75)\n",
        "    IQR = Q3 - Q1\n",
        "    lower_bound = Q1 - 1.5 * IQR\n",
        "    upper_bound = Q3 + 1.5 * IQR\n",
        "    outliers = df[(df[col] < lower_bound) | (df[col] > upper_bound)]\n",
        "    print(f\"Number of outliers: {len(outliers)}\")\n",
        "    print(f\"Lower bound: {lower_bound}, Upper bound: {upper_bound}\")\n",
        "    plt.figure(figsize=(8, 6))\n",
        "    sns.scatterplot(x=col, y='CONSUMO', data=df)\n",
        "    plt.title(f'CONSUMO vs. {col} with Outliers')\n",
        "\n",
        "    # Highlight outliers on the scatter plot\n",
        "    if not outliers.empty:\n",
        "        plt.scatter(outliers[col], outliers['CONSUMO'], color='red', label='Outliers')\n",
        "        plt.legend()\n",
        "\n",
        "    plt.show()"
      ]
    },
    {
      "cell_type": "markdown",
      "metadata": {
        "id": "i1acDpstjuRa"
      },
      "source": [
        "**Conclusiones Outliers**\n",
        "- Se pudo observar un dato en la variable temperatura que se identificó como Outlier, sin embargo, este pudo obedecer a una temporada sin lluvia, en donde la temperatura se elevó a valores superiores.\n",
        "- Para la variable Consumo, de acuerdo a lo manifestado por los expertos del negocio, los valores bajos se puden considedar como outliers, causados por apagones o fallas en la red de distribucion de energia."
      ]
    },
    {
      "cell_type": "code",
      "execution_count": null,
      "metadata": {
        "colab": {
          "base_uri": "https://localhost:8080/",
          "height": 585
        },
        "id": "_wOlUDmWgOzL",
        "outputId": "954e1dc0-35c0-424a-af7d-7e18c81f11b4"
      },
      "outputs": [],
      "source": [
        "df.isnull().sum()"
      ]
    },
    {
      "cell_type": "markdown",
      "metadata": {
        "id": "Z5CYtt8prsb-"
      },
      "source": [
        "# 4  Imputación de datos\n"
      ]
    },
    {
      "cell_type": "code",
      "execution_count": null,
      "metadata": {
        "colab": {
          "base_uri": "https://localhost:8080/"
        },
        "id": "duE7Lz3bP_TT",
        "outputId": "9cf1275f-a9a0-448c-c42d-ef703534d486"
      },
      "outputs": [],
      "source": [
        "# Create a copy of the DataFrame to avoid SettingWithCopyWarning\n",
        "df_cleaned = df.copy()\n",
        "\n",
        "# Crea series desplazadas para el valor anterior y siguiente\n",
        "temperatura_anterior = df_cleaned['TEMPERATURA'].shift(1)\n",
        "temperatura_siguiente = df_cleaned['TEMPERATURA'].shift(-1)\n",
        "\n",
        "# Calcula el promedio del valor anterior y siguiente\n",
        "promedio_anterior_siguiente = (temperatura_anterior + temperatura_siguiente) / 2\n",
        "\n",
        "# Imputa los valores faltantes con el promedio\n",
        "df_cleaned['TEMPERATURA'] = df_cleaned['TEMPERATURA'].fillna(promedio_anterior_siguiente)\n",
        "\n",
        "# Manejar los valores NaN restantes al inicio o al final del DataFrame\n",
        "df_cleaned['TEMPERATURA'] = df_cleaned['TEMPERATURA'].fillna(df_cleaned['TEMPERATURA'].median()) # Corregido\n",
        "\n",
        "# Reassign the cleaned DataFrame to df\n",
        "df = df_cleaned\n",
        "\n",
        "print(df.head())\n",
        "print(df.info())\n",
        "print(df.isnull().sum())"
      ]
    },
    {
      "cell_type": "markdown",
      "metadata": {
        "id": "UAbkELqxjuRb"
      },
      "source": [
        "- En el dataset estudiado no hay presencia de datos faltantes, se contempla el proceso de imputacion para la variable **Temperatura** debido a la posibilidad de la llegada de nuevos datos, a travez del cual se puede imputar los valores nulos.\n",
        "- Para imputar se tiene en cuenta la medida anterior y posterior con referencia al dato nulo, se realiza un promedio de estas dos medidas, teniendo en cuenta el vector."
      ]
    },
    {
      "cell_type": "markdown",
      "metadata": {
        "id": "Jkrf4VHjrvIS"
      },
      "source": [
        "## 4.1  Division de datasets\n"
      ]
    },
    {
      "cell_type": "code",
      "execution_count": null,
      "metadata": {
        "id": "Pk0jd7Thf4S5"
      },
      "outputs": [],
      "source": [
        "y = df['CONSUMO']\n",
        "X = df.drop(['CONSUMO'], axis=1)\n",
        "\n",
        "print(\"primeras filas \\n\")\n",
        "print(X.head())\n",
        "\n",
        "print(\"se describen las columnas \\n\")\n",
        "print(X.info())\n",
        "\n",
        "print(\"dimensiones \\n\")\n",
        "print(X.shape)\n",
        "print(\"dimensiones \\n\")\n",
        "print(y.shape)\n",
        "\n",
        "\n",
        "X_train, X_test, y_train, y_test = train_test_split(X, y, test_size=0.2, random_state=42)\n"
      ]
    },
    {
      "cell_type": "markdown",
      "metadata": {
        "id": "zKLnaAwerzG8"
      },
      "source": [
        "## 4.2  Estandarización y Escalamiento\n"
      ]
    },
    {
      "cell_type": "markdown",
      "metadata": {
        "id": "sBIA41ENg1lp"
      },
      "source": [
        "Teniendo en cuenta que solo la variable temperatura es numerica y continua no se requiere Escalar o normalizar."
      ]
    },
    {
      "cell_type": "code",
      "execution_count": null,
      "metadata": {
        "id": "FKsTTX8UgeE1"
      },
      "outputs": [],
      "source": [
        "# from sklearn.preprocessing import StandardScaler\n",
        "\n",
        "\n",
        "# scaler = StandardScaler()\n",
        "# X_train_scaled = scaler.fit_transform(X_train)\n",
        "# X_test_scaled = scaler.transform(X_test)\n"
      ]
    },
    {
      "cell_type": "markdown",
      "metadata": {
        "id": "pxvOOU-4r2BX"
      },
      "source": [
        "# 5  Feature Engineering\n"
      ]
    },
    {
      "cell_type": "markdown",
      "metadata": {
        "id": "Qyx0MGtar3ou"
      },
      "source": [
        "## 5.1  Codificar Variables Categoricas\n"
      ]
    },
    {
      "cell_type": "markdown",
      "source": [
        "Como las variables categoricas del dataset no tienen una cardinalidad, se usa la codificación One Hot Encoding, para su aplicación en el modelo."
      ],
      "metadata": {
        "id": "6PXMkytXVpwB"
      }
    },
    {
      "cell_type": "code",
      "execution_count": 77,
      "metadata": {
        "colab": {
          "base_uri": "https://localhost:8080/"
        },
        "id": "O4EUqn4Ohvfo",
        "outputId": "c3935e93-eb09-4946-c118-2c28ec2cb501"
      },
      "outputs": [],
      "source": [
        "# Use pd.get_dummies with the 'columns' parameter to specify which columns to dummify\n",
        "X_train = pd.get_dummies(X_train, columns=categorical_cols)\n",
        "X_test = pd.get_dummies(X_test, columns=categorical_cols)\n",
        "#print(X_train.head())\n",
        "\n",
        "# Check if the number of columns in X_train and X_test are equal\n",
        "print(f\"Number of columns in X_train: {X_train.shape[1]} \\n\")\n",
        "print(f\"Number of columns in X_test: {X_test.shape[1]}\")\n"
      ]
    },
    {
      "cell_type": "markdown",
      "metadata": {
        "id": "bkmP9Z0Qr5Z3"
      },
      "source": [
        "## 5.2  PCA\n"
      ]
    },
    {
      "cell_type": "code",
      "execution_count": 4,
      "metadata": {
        "id": "V1BcC8dhj6zs"
      },
      "outputs": [
        {
          "ename": "NameError",
          "evalue": "name 'X_train' is not defined",
          "output_type": "error",
          "traceback": [
            "\u001b[31m---------------------------------------------------------------------------\u001b[39m",
            "\u001b[31mNameError\u001b[39m                                 Traceback (most recent call last)",
            "\u001b[36mCell\u001b[39m\u001b[36m \u001b[39m\u001b[32mIn[4]\u001b[39m\u001b[32m, line 3\u001b[39m\n\u001b[32m      1\u001b[39m \u001b[38;5;66;03m# Split data into training and testing/validation sets\u001b[39;00m\n\u001b[32m      2\u001b[39m X_train_final, X_test_val, y_train_final, y_test_val = train_test_split(\n\u001b[32m----> \u001b[39m\u001b[32m3\u001b[39m     \u001b[43mX_train\u001b[49m, y_train, test_size=\u001b[32m0.3\u001b[39m, random_state=\u001b[32m42\u001b[39m\n\u001b[32m      4\u001b[39m )\n\u001b[32m      6\u001b[39m \u001b[38;5;66;03m# Split testing/validation set into testing and validation sets\u001b[39;00m\n\u001b[32m      7\u001b[39m X_test, X_val, y_test, y_val = train_test_split(\n\u001b[32m      8\u001b[39m     X_test_val, y_test_val, test_size=\u001b[32m0.5\u001b[39m, random_state=\u001b[32m42\u001b[39m\n\u001b[32m      9\u001b[39m )\n",
            "\u001b[31mNameError\u001b[39m: name 'X_train' is not defined"
          ]
        }
      ],
      "source": [
        "# Split data into training and testing/validation sets\n",
        "X_train_final, X_test_val, y_train_final, y_test_val = train_test_split(\n",
        "    X_train, y_train, test_size=0.3, random_state=42\n",
        ")\n",
        "\n",
        "# # Split testing/validation set into testing and validation sets\n",
        "X_test, X_val, y_test, y_val = train_test_split(\n",
        "    X_test_val, y_test_val, test_size=0.5, random_state=42\n",
        ")\n",
        "\n",
        "print(f\"X_train_final shape: {X_train_final.shape}, y_train_final shape: {y_train_final.shape}\")\n",
        "print(f\"X_test shape: {X_test.shape}, y_test shape: {y_test.shape}\")\n",
        "print(f\"X_val shape: {X_val.shape}, y_val shape: {y_val.shape}\")\n"
      ]
    },
    {
      "cell_type": "code",
      "execution_count": null,
      "metadata": {
        "id": "1jejxbdUjVkD"
      },
      "outputs": [],
      "source": [
        "\n",
        "# Initialize PCA with 95% variance retained\n",
        "pca = PCA(n_components=0.95)\n",
        "\n",
        "# Fit PCA on the training data\n",
        "pca.fit(X_train_final)\n",
        "\n",
        "# Transform the training, testing, and validation data\n",
        "X_train_pca = pca.transform(X_train_final)\n",
        "X_test_pca = pca.transform(X_test)\n",
        "X_val_pca = pca.transform(X_val)\n",
        "\n",
        "# Print the explained variance ratio\n",
        "print(pca.explained_variance_ratio_)\n",
        "\n",
        "# Replace original data with PCA-transformed data\n",
        "X_train_final = X_train_pca\n",
        "X_test = X_test_pca\n",
        "X_val = X_val_pca"
      ]
    },
    {
      "cell_type": "markdown",
      "metadata": {
        "id": "zCMWA4spr63k"
      },
      "source": [
        "## 5.3  LDA\n"
      ]
    },
    {
      "cell_type": "markdown",
      "metadata": {},
      "source": []
    },
    {
      "cell_type": "code",
      "execution_count": null,
      "metadata": {},
      "outputs": [],
      "source": []
    },
    {
      "cell_type": "markdown",
      "metadata": {
        "id": "vYEIsYPor8Y1"
      },
      "source": [
        "## 5.4  Clustering\n"
      ]
    },
    {
      "cell_type": "markdown",
      "metadata": {},
      "source": [
        "No aplica, Colocar Explicacion"
      ]
    },
    {
      "cell_type": "markdown",
      "metadata": {
        "id": "Ic3-1aFzr-VE"
      },
      "source": [
        "# 6 Data Pipeline\n"
      ]
    },
    {
      "cell_type": "code",
      "execution_count": null,
      "metadata": {},
      "outputs": [],
      "source": [
        "# scoring data\n",
        "from sklearn.metrics import accuracy_score\n",
        "\n",
        "# importing pipes for making the Pipe flow\n",
        "from sklearn.pipeline import Pipeline\n",
        "\n",
        "#\n",
        "X_train, X_test, y_train, y_test = train_test_split(X, y, test_size=0.2, random_state=42)\n",
        "\n",
        "\n",
        "pipe = Pipeline([\n",
        "  ('Estandarizacion', StandardScaler()),\n",
        "  ('model', RandomForestRegressor(n_estimators=100, max_depth=10, random_state=42),)\n",
        "],verbose = True)\n",
        "\n",
        "pipe.fit(X_train, y_train)\n",
        "\n",
        "# y_pred = pipe.predict(X_test)\n",
        "\n",
        "# accuracy = accuracy_score(y_test, y_pred)\n",
        "#print(\"Accuracy:\", accuracy_score(y_test, pipe.predict(X_test)))"
      ]
    },
    {
      "cell_type": "code",
      "execution_count": null,
      "metadata": {},
      "outputs": [],
      "source": []
    },
    {
      "cell_type": "markdown",
      "metadata": {
        "id": "ENLHlVusr-pH"
      },
      "source": [
        "# 7  Modelamiento"
      ]
    },
    {
      "cell_type": "markdown",
      "metadata": {},
      "source": [
        "## Modelo hibrido XGBoost + DNN"
      ]
    },
    {
      "cell_type": "code",
      "execution_count": 14,
      "metadata": {},
      "outputs": [
        {
          "name": "stderr",
          "output_type": "stream",
          "text": [
            "c:\\Users\\rchic\\AppData\\Local\\Programs\\Python\\Python312\\Lib\\site-packages\\keras\\src\\layers\\core\\dense.py:87: UserWarning: Do not pass an `input_shape`/`input_dim` argument to a layer. When using Sequential models, prefer using an `Input(shape)` object as the first layer in the model instead.\n",
            "  super().__init__(activity_regularizer=activity_regularizer, **kwargs)\n"
          ]
        },
        {
          "name": "stdout",
          "output_type": "stream",
          "text": [
            "Epoch 1/100\n",
            "\u001b[1m144/144\u001b[0m \u001b[32m━━━━━━━━━━━━━━━━━━━━\u001b[0m\u001b[37m\u001b[0m \u001b[1m2s\u001b[0m 4ms/step - loss: 175479.9219 - val_loss: 5781.9814\n",
            "Epoch 2/100\n",
            "\u001b[1m144/144\u001b[0m \u001b[32m━━━━━━━━━━━━━━━━━━━━\u001b[0m\u001b[37m\u001b[0m \u001b[1m0s\u001b[0m 3ms/step - loss: 8312.0967 - val_loss: 4611.9956\n",
            "Epoch 3/100\n",
            "\u001b[1m144/144\u001b[0m \u001b[32m━━━━━━━━━━━━━━━━━━━━\u001b[0m\u001b[37m\u001b[0m \u001b[1m0s\u001b[0m 3ms/step - loss: 7234.4419 - val_loss: 3752.6514\n",
            "Epoch 4/100\n",
            "\u001b[1m144/144\u001b[0m \u001b[32m━━━━━━━━━━━━━━━━━━━━\u001b[0m\u001b[37m\u001b[0m \u001b[1m0s\u001b[0m 3ms/step - loss: 5765.3213 - val_loss: 3005.9370\n",
            "Epoch 5/100\n",
            "\u001b[1m144/144\u001b[0m \u001b[32m━━━━━━━━━━━━━━━━━━━━\u001b[0m\u001b[37m\u001b[0m \u001b[1m0s\u001b[0m 3ms/step - loss: 5258.4033 - val_loss: 2534.4360\n",
            "Epoch 6/100\n",
            "\u001b[1m144/144\u001b[0m \u001b[32m━━━━━━━━━━━━━━━━━━━━\u001b[0m\u001b[37m\u001b[0m \u001b[1m1s\u001b[0m 3ms/step - loss: 4893.2446 - val_loss: 2181.2061\n",
            "Epoch 7/100\n",
            "\u001b[1m144/144\u001b[0m \u001b[32m━━━━━━━━━━━━━━━━━━━━\u001b[0m\u001b[37m\u001b[0m \u001b[1m0s\u001b[0m 3ms/step - loss: 4364.2295 - val_loss: 1931.8501\n",
            "Epoch 8/100\n",
            "\u001b[1m144/144\u001b[0m \u001b[32m━━━━━━━━━━━━━━━━━━━━\u001b[0m\u001b[37m\u001b[0m \u001b[1m0s\u001b[0m 2ms/step - loss: 4279.9956 - val_loss: 1767.6385\n",
            "Epoch 9/100\n",
            "\u001b[1m144/144\u001b[0m \u001b[32m━━━━━━━━━━━━━━━━━━━━\u001b[0m\u001b[37m\u001b[0m \u001b[1m0s\u001b[0m 3ms/step - loss: 4221.8354 - val_loss: 1674.1780\n",
            "Epoch 10/100\n",
            "\u001b[1m144/144\u001b[0m \u001b[32m━━━━━━━━━━━━━━━━━━━━\u001b[0m\u001b[37m\u001b[0m \u001b[1m0s\u001b[0m 3ms/step - loss: 4064.0662 - val_loss: 1559.3794\n",
            "Epoch 11/100\n",
            "\u001b[1m144/144\u001b[0m \u001b[32m━━━━━━━━━━━━━━━━━━━━\u001b[0m\u001b[37m\u001b[0m \u001b[1m0s\u001b[0m 3ms/step - loss: 3913.4094 - val_loss: 1504.1625\n",
            "Epoch 12/100\n",
            "\u001b[1m144/144\u001b[0m \u001b[32m━━━━━━━━━━━━━━━━━━━━\u001b[0m\u001b[37m\u001b[0m \u001b[1m0s\u001b[0m 3ms/step - loss: 3753.1453 - val_loss: 1447.9995\n",
            "Epoch 13/100\n",
            "\u001b[1m144/144\u001b[0m \u001b[32m━━━━━━━━━━━━━━━━━━━━\u001b[0m\u001b[37m\u001b[0m \u001b[1m0s\u001b[0m 3ms/step - loss: 3732.3208 - val_loss: 1416.7567\n",
            "Epoch 14/100\n",
            "\u001b[1m144/144\u001b[0m \u001b[32m━━━━━━━━━━━━━━━━━━━━\u001b[0m\u001b[37m\u001b[0m \u001b[1m0s\u001b[0m 3ms/step - loss: 3705.3201 - val_loss: 1364.6606\n",
            "Epoch 15/100\n",
            "\u001b[1m144/144\u001b[0m \u001b[32m━━━━━━━━━━━━━━━━━━━━\u001b[0m\u001b[37m\u001b[0m \u001b[1m0s\u001b[0m 3ms/step - loss: 3680.6035 - val_loss: 1360.6196\n",
            "Epoch 16/100\n",
            "\u001b[1m144/144\u001b[0m \u001b[32m━━━━━━━━━━━━━━━━━━━━\u001b[0m\u001b[37m\u001b[0m \u001b[1m0s\u001b[0m 3ms/step - loss: 3595.7668 - val_loss: 1531.0165\n",
            "Epoch 17/100\n",
            "\u001b[1m144/144\u001b[0m \u001b[32m━━━━━━━━━━━━━━━━━━━━\u001b[0m\u001b[37m\u001b[0m \u001b[1m0s\u001b[0m 3ms/step - loss: 3534.8811 - val_loss: 1287.2198\n",
            "Epoch 18/100\n",
            "\u001b[1m144/144\u001b[0m \u001b[32m━━━━━━━━━━━━━━━━━━━━\u001b[0m\u001b[37m\u001b[0m \u001b[1m0s\u001b[0m 3ms/step - loss: 3439.6084 - val_loss: 1168.8306\n",
            "Epoch 19/100\n",
            "\u001b[1m144/144\u001b[0m \u001b[32m━━━━━━━━━━━━━━━━━━━━\u001b[0m\u001b[37m\u001b[0m \u001b[1m0s\u001b[0m 3ms/step - loss: 3333.0002 - val_loss: 1149.7275\n",
            "Epoch 20/100\n",
            "\u001b[1m144/144\u001b[0m \u001b[32m━━━━━━━━━━━━━━━━━━━━\u001b[0m\u001b[37m\u001b[0m \u001b[1m0s\u001b[0m 3ms/step - loss: 3430.6873 - val_loss: 1268.8844\n",
            "Epoch 21/100\n",
            "\u001b[1m144/144\u001b[0m \u001b[32m━━━━━━━━━━━━━━━━━━━━\u001b[0m\u001b[37m\u001b[0m \u001b[1m0s\u001b[0m 3ms/step - loss: 3371.0647 - val_loss: 1076.4874\n",
            "Epoch 22/100\n",
            "\u001b[1m144/144\u001b[0m \u001b[32m━━━━━━━━━━━━━━━━━━━━\u001b[0m\u001b[37m\u001b[0m \u001b[1m0s\u001b[0m 3ms/step - loss: 3487.7227 - val_loss: 1040.2042\n",
            "Epoch 23/100\n",
            "\u001b[1m144/144\u001b[0m \u001b[32m━━━━━━━━━━━━━━━━━━━━\u001b[0m\u001b[37m\u001b[0m \u001b[1m1s\u001b[0m 3ms/step - loss: 3292.0730 - val_loss: 983.1276\n",
            "Epoch 24/100\n",
            "\u001b[1m144/144\u001b[0m \u001b[32m━━━━━━━━━━━━━━━━━━━━\u001b[0m\u001b[37m\u001b[0m \u001b[1m0s\u001b[0m 3ms/step - loss: 3197.3921 - val_loss: 946.1854\n",
            "Epoch 25/100\n",
            "\u001b[1m144/144\u001b[0m \u001b[32m━━━━━━━━━━━━━━━━━━━━\u001b[0m\u001b[37m\u001b[0m \u001b[1m0s\u001b[0m 3ms/step - loss: 3253.4790 - val_loss: 987.9536\n",
            "Epoch 26/100\n",
            "\u001b[1m144/144\u001b[0m \u001b[32m━━━━━━━━━━━━━━━━━━━━\u001b[0m\u001b[37m\u001b[0m \u001b[1m0s\u001b[0m 3ms/step - loss: 3078.1355 - val_loss: 1021.8967\n",
            "Epoch 27/100\n",
            "\u001b[1m144/144\u001b[0m \u001b[32m━━━━━━━━━━━━━━━━━━━━\u001b[0m\u001b[37m\u001b[0m \u001b[1m0s\u001b[0m 3ms/step - loss: 3194.5054 - val_loss: 858.1138\n",
            "Epoch 28/100\n",
            "\u001b[1m144/144\u001b[0m \u001b[32m━━━━━━━━━━━━━━━━━━━━\u001b[0m\u001b[37m\u001b[0m \u001b[1m0s\u001b[0m 3ms/step - loss: 2978.5259 - val_loss: 829.1351\n",
            "Epoch 29/100\n",
            "\u001b[1m144/144\u001b[0m \u001b[32m━━━━━━━━━━━━━━━━━━━━\u001b[0m\u001b[37m\u001b[0m \u001b[1m0s\u001b[0m 3ms/step - loss: 3036.3345 - val_loss: 949.2579\n",
            "Epoch 30/100\n",
            "\u001b[1m144/144\u001b[0m \u001b[32m━━━━━━━━━━━━━━━━━━━━\u001b[0m\u001b[37m\u001b[0m \u001b[1m0s\u001b[0m 3ms/step - loss: 2935.3953 - val_loss: 795.1538\n",
            "Epoch 31/100\n",
            "\u001b[1m144/144\u001b[0m \u001b[32m━━━━━━━━━━━━━━━━━━━━\u001b[0m\u001b[37m\u001b[0m \u001b[1m0s\u001b[0m 3ms/step - loss: 2924.8215 - val_loss: 757.6876\n",
            "Epoch 32/100\n",
            "\u001b[1m144/144\u001b[0m \u001b[32m━━━━━━━━━━━━━━━━━━━━\u001b[0m\u001b[37m\u001b[0m \u001b[1m0s\u001b[0m 3ms/step - loss: 2948.1389 - val_loss: 1052.6616\n",
            "Epoch 33/100\n",
            "\u001b[1m144/144\u001b[0m \u001b[32m━━━━━━━━━━━━━━━━━━━━\u001b[0m\u001b[37m\u001b[0m \u001b[1m0s\u001b[0m 3ms/step - loss: 2964.9451 - val_loss: 728.6545\n",
            "Epoch 34/100\n",
            "\u001b[1m144/144\u001b[0m \u001b[32m━━━━━━━━━━━━━━━━━━━━\u001b[0m\u001b[37m\u001b[0m \u001b[1m0s\u001b[0m 3ms/step - loss: 2948.3123 - val_loss: 711.4062\n",
            "Epoch 35/100\n",
            "\u001b[1m144/144\u001b[0m \u001b[32m━━━━━━━━━━━━━━━━━━━━\u001b[0m\u001b[37m\u001b[0m \u001b[1m0s\u001b[0m 3ms/step - loss: 2885.2598 - val_loss: 762.9401\n",
            "Epoch 36/100\n",
            "\u001b[1m144/144\u001b[0m \u001b[32m━━━━━━━━━━━━━━━━━━━━\u001b[0m\u001b[37m\u001b[0m \u001b[1m0s\u001b[0m 2ms/step - loss: 2925.0105 - val_loss: 660.0026\n",
            "Epoch 37/100\n",
            "\u001b[1m144/144\u001b[0m \u001b[32m━━━━━━━━━━━━━━━━━━━━\u001b[0m\u001b[37m\u001b[0m \u001b[1m1s\u001b[0m 3ms/step - loss: 2770.1558 - val_loss: 705.2368\n",
            "Epoch 38/100\n",
            "\u001b[1m144/144\u001b[0m \u001b[32m━━━━━━━━━━━━━━━━━━━━\u001b[0m\u001b[37m\u001b[0m \u001b[1m0s\u001b[0m 3ms/step - loss: 2873.3123 - val_loss: 715.1155\n",
            "Epoch 39/100\n",
            "\u001b[1m144/144\u001b[0m \u001b[32m━━━━━━━━━━━━━━━━━━━━\u001b[0m\u001b[37m\u001b[0m \u001b[1m0s\u001b[0m 3ms/step - loss: 2845.4592 - val_loss: 642.3569\n",
            "Epoch 40/100\n",
            "\u001b[1m144/144\u001b[0m \u001b[32m━━━━━━━━━━━━━━━━━━━━\u001b[0m\u001b[37m\u001b[0m \u001b[1m0s\u001b[0m 2ms/step - loss: 2862.1970 - val_loss: 721.6409\n",
            "Epoch 41/100\n",
            "\u001b[1m144/144\u001b[0m \u001b[32m━━━━━━━━━━━━━━━━━━━━\u001b[0m\u001b[37m\u001b[0m \u001b[1m0s\u001b[0m 3ms/step - loss: 2654.1970 - val_loss: 723.1426\n",
            "Epoch 42/100\n",
            "\u001b[1m144/144\u001b[0m \u001b[32m━━━━━━━━━━━━━━━━━━━━\u001b[0m\u001b[37m\u001b[0m \u001b[1m0s\u001b[0m 3ms/step - loss: 2774.0186 - val_loss: 619.7112\n",
            "Epoch 43/100\n",
            "\u001b[1m144/144\u001b[0m \u001b[32m━━━━━━━━━━━━━━━━━━━━\u001b[0m\u001b[37m\u001b[0m \u001b[1m0s\u001b[0m 3ms/step - loss: 2905.2292 - val_loss: 666.6702\n",
            "Epoch 44/100\n",
            "\u001b[1m144/144\u001b[0m \u001b[32m━━━━━━━━━━━━━━━━━━━━\u001b[0m\u001b[37m\u001b[0m \u001b[1m0s\u001b[0m 3ms/step - loss: 2904.1594 - val_loss: 587.9817\n",
            "Epoch 45/100\n",
            "\u001b[1m144/144\u001b[0m \u001b[32m━━━━━━━━━━━━━━━━━━━━\u001b[0m\u001b[37m\u001b[0m \u001b[1m0s\u001b[0m 3ms/step - loss: 2835.5291 - val_loss: 547.0108\n",
            "Epoch 46/100\n",
            "\u001b[1m144/144\u001b[0m \u001b[32m━━━━━━━━━━━━━━━━━━━━\u001b[0m\u001b[37m\u001b[0m \u001b[1m0s\u001b[0m 3ms/step - loss: 2667.7410 - val_loss: 564.9788\n",
            "Epoch 47/100\n",
            "\u001b[1m144/144\u001b[0m \u001b[32m━━━━━━━━━━━━━━━━━━━━\u001b[0m\u001b[37m\u001b[0m \u001b[1m0s\u001b[0m 3ms/step - loss: 2835.2664 - val_loss: 725.7474\n",
            "Epoch 48/100\n",
            "\u001b[1m144/144\u001b[0m \u001b[32m━━━━━━━━━━━━━━━━━━━━\u001b[0m\u001b[37m\u001b[0m \u001b[1m0s\u001b[0m 3ms/step - loss: 2891.9175 - val_loss: 587.2264\n",
            "Epoch 49/100\n",
            "\u001b[1m144/144\u001b[0m \u001b[32m━━━━━━━━━━━━━━━━━━━━\u001b[0m\u001b[37m\u001b[0m \u001b[1m0s\u001b[0m 3ms/step - loss: 2737.8936 - val_loss: 528.5688\n",
            "Epoch 50/100\n",
            "\u001b[1m144/144\u001b[0m \u001b[32m━━━━━━━━━━━━━━━━━━━━\u001b[0m\u001b[37m\u001b[0m \u001b[1m1s\u001b[0m 3ms/step - loss: 2841.7559 - val_loss: 565.5579\n",
            "Epoch 51/100\n",
            "\u001b[1m144/144\u001b[0m \u001b[32m━━━━━━━━━━━━━━━━━━━━\u001b[0m\u001b[37m\u001b[0m \u001b[1m0s\u001b[0m 3ms/step - loss: 2743.4358 - val_loss: 605.7153\n",
            "Epoch 52/100\n",
            "\u001b[1m144/144\u001b[0m \u001b[32m━━━━━━━━━━━━━━━━━━━━\u001b[0m\u001b[37m\u001b[0m \u001b[1m0s\u001b[0m 3ms/step - loss: 2828.1006 - val_loss: 711.5495\n",
            "Epoch 53/100\n",
            "\u001b[1m144/144\u001b[0m \u001b[32m━━━━━━━━━━━━━━━━━━━━\u001b[0m\u001b[37m\u001b[0m \u001b[1m0s\u001b[0m 3ms/step - loss: 2825.0513 - val_loss: 523.7323\n",
            "Epoch 54/100\n",
            "\u001b[1m144/144\u001b[0m \u001b[32m━━━━━━━━━━━━━━━━━━━━\u001b[0m\u001b[37m\u001b[0m \u001b[1m0s\u001b[0m 3ms/step - loss: 2671.2722 - val_loss: 525.0920\n",
            "Epoch 55/100\n",
            "\u001b[1m144/144\u001b[0m \u001b[32m━━━━━━━━━━━━━━━━━━━━\u001b[0m\u001b[37m\u001b[0m \u001b[1m0s\u001b[0m 3ms/step - loss: 2933.2310 - val_loss: 503.3449\n",
            "Epoch 56/100\n",
            "\u001b[1m144/144\u001b[0m \u001b[32m━━━━━━━━━━━━━━━━━━━━\u001b[0m\u001b[37m\u001b[0m \u001b[1m0s\u001b[0m 3ms/step - loss: 2956.8867 - val_loss: 550.2727\n",
            "Epoch 57/100\n",
            "\u001b[1m144/144\u001b[0m \u001b[32m━━━━━━━━━━━━━━━━━━━━\u001b[0m\u001b[37m\u001b[0m \u001b[1m0s\u001b[0m 3ms/step - loss: 2763.8835 - val_loss: 539.4866\n",
            "Epoch 58/100\n",
            "\u001b[1m144/144\u001b[0m \u001b[32m━━━━━━━━━━━━━━━━━━━━\u001b[0m\u001b[37m\u001b[0m \u001b[1m0s\u001b[0m 3ms/step - loss: 2799.7170 - val_loss: 1003.6606\n",
            "Epoch 59/100\n",
            "\u001b[1m144/144\u001b[0m \u001b[32m━━━━━━━━━━━━━━━━━━━━\u001b[0m\u001b[37m\u001b[0m \u001b[1m0s\u001b[0m 3ms/step - loss: 2770.7527 - val_loss: 500.3569\n",
            "Epoch 60/100\n",
            "\u001b[1m144/144\u001b[0m \u001b[32m━━━━━━━━━━━━━━━━━━━━\u001b[0m\u001b[37m\u001b[0m \u001b[1m0s\u001b[0m 3ms/step - loss: 2861.8582 - val_loss: 523.9641\n",
            "Epoch 61/100\n",
            "\u001b[1m144/144\u001b[0m \u001b[32m━━━━━━━━━━━━━━━━━━━━\u001b[0m\u001b[37m\u001b[0m \u001b[1m0s\u001b[0m 3ms/step - loss: 2831.0669 - val_loss: 643.1298\n",
            "Epoch 62/100\n",
            "\u001b[1m144/144\u001b[0m \u001b[32m━━━━━━━━━━━━━━━━━━━━\u001b[0m\u001b[37m\u001b[0m \u001b[1m0s\u001b[0m 3ms/step - loss: 2902.7205 - val_loss: 493.7094\n",
            "Epoch 63/100\n",
            "\u001b[1m144/144\u001b[0m \u001b[32m━━━━━━━━━━━━━━━━━━━━\u001b[0m\u001b[37m\u001b[0m \u001b[1m0s\u001b[0m 3ms/step - loss: 2775.0903 - val_loss: 636.0452\n",
            "Epoch 64/100\n",
            "\u001b[1m144/144\u001b[0m \u001b[32m━━━━━━━━━━━━━━━━━━━━\u001b[0m\u001b[37m\u001b[0m \u001b[1m0s\u001b[0m 3ms/step - loss: 2851.7869 - val_loss: 555.0364\n",
            "Epoch 65/100\n",
            "\u001b[1m144/144\u001b[0m \u001b[32m━━━━━━━━━━━━━━━━━━━━\u001b[0m\u001b[37m\u001b[0m \u001b[1m0s\u001b[0m 2ms/step - loss: 2460.6992 - val_loss: 458.0130\n",
            "Epoch 66/100\n",
            "\u001b[1m144/144\u001b[0m \u001b[32m━━━━━━━━━━━━━━━━━━━━\u001b[0m\u001b[37m\u001b[0m \u001b[1m0s\u001b[0m 3ms/step - loss: 2675.9651 - val_loss: 469.0972\n",
            "Epoch 67/100\n",
            "\u001b[1m144/144\u001b[0m \u001b[32m━━━━━━━━━━━━━━━━━━━━\u001b[0m\u001b[37m\u001b[0m \u001b[1m0s\u001b[0m 3ms/step - loss: 2763.2078 - val_loss: 655.1887\n",
            "Epoch 68/100\n",
            "\u001b[1m144/144\u001b[0m \u001b[32m━━━━━━━━━━━━━━━━━━━━\u001b[0m\u001b[37m\u001b[0m \u001b[1m0s\u001b[0m 3ms/step - loss: 2769.5303 - val_loss: 573.4122\n",
            "Epoch 69/100\n",
            "\u001b[1m144/144\u001b[0m \u001b[32m━━━━━━━━━━━━━━━━━━━━\u001b[0m\u001b[37m\u001b[0m \u001b[1m0s\u001b[0m 3ms/step - loss: 2627.0813 - val_loss: 589.6216\n",
            "Epoch 70/100\n",
            "\u001b[1m144/144\u001b[0m \u001b[32m━━━━━━━━━━━━━━━━━━━━\u001b[0m\u001b[37m\u001b[0m \u001b[1m0s\u001b[0m 3ms/step - loss: 2759.1174 - val_loss: 483.3497\n",
            "Epoch 71/100\n",
            "\u001b[1m144/144\u001b[0m \u001b[32m━━━━━━━━━━━━━━━━━━━━\u001b[0m\u001b[37m\u001b[0m \u001b[1m0s\u001b[0m 3ms/step - loss: 2647.4802 - val_loss: 828.6094\n",
            "Epoch 72/100\n",
            "\u001b[1m144/144\u001b[0m \u001b[32m━━━━━━━━━━━━━━━━━━━━\u001b[0m\u001b[37m\u001b[0m \u001b[1m0s\u001b[0m 3ms/step - loss: 2851.7915 - val_loss: 523.7709\n",
            "Epoch 73/100\n",
            "\u001b[1m144/144\u001b[0m \u001b[32m━━━━━━━━━━━━━━━━━━━━\u001b[0m\u001b[37m\u001b[0m \u001b[1m0s\u001b[0m 3ms/step - loss: 2747.0454 - val_loss: 458.2080\n",
            "Epoch 74/100\n",
            "\u001b[1m144/144\u001b[0m \u001b[32m━━━━━━━━━━━━━━━━━━━━\u001b[0m\u001b[37m\u001b[0m \u001b[1m0s\u001b[0m 3ms/step - loss: 2686.9587 - val_loss: 492.8155\n",
            "Epoch 75/100\n",
            "\u001b[1m144/144\u001b[0m \u001b[32m━━━━━━━━━━━━━━━━━━━━\u001b[0m\u001b[37m\u001b[0m \u001b[1m0s\u001b[0m 3ms/step - loss: 2623.1741 - val_loss: 467.5035\n",
            "Epoch 76/100\n",
            "\u001b[1m144/144\u001b[0m \u001b[32m━━━━━━━━━━━━━━━━━━━━\u001b[0m\u001b[37m\u001b[0m \u001b[1m0s\u001b[0m 3ms/step - loss: 2705.7012 - val_loss: 517.2668\n",
            "Epoch 77/100\n",
            "\u001b[1m144/144\u001b[0m \u001b[32m━━━━━━━━━━━━━━━━━━━━\u001b[0m\u001b[37m\u001b[0m \u001b[1m0s\u001b[0m 3ms/step - loss: 2701.8601 - val_loss: 582.4827\n",
            "Epoch 78/100\n",
            "\u001b[1m144/144\u001b[0m \u001b[32m━━━━━━━━━━━━━━━━━━━━\u001b[0m\u001b[37m\u001b[0m \u001b[1m0s\u001b[0m 3ms/step - loss: 2830.0557 - val_loss: 473.4313\n",
            "Epoch 79/100\n",
            "\u001b[1m144/144\u001b[0m \u001b[32m━━━━━━━━━━━━━━━━━━━━\u001b[0m\u001b[37m\u001b[0m \u001b[1m0s\u001b[0m 3ms/step - loss: 2720.6194 - val_loss: 454.5828\n",
            "Epoch 80/100\n",
            "\u001b[1m144/144\u001b[0m \u001b[32m━━━━━━━━━━━━━━━━━━━━\u001b[0m\u001b[37m\u001b[0m \u001b[1m0s\u001b[0m 3ms/step - loss: 2538.1724 - val_loss: 467.0919\n",
            "Epoch 81/100\n",
            "\u001b[1m144/144\u001b[0m \u001b[32m━━━━━━━━━━━━━━━━━━━━\u001b[0m\u001b[37m\u001b[0m \u001b[1m0s\u001b[0m 3ms/step - loss: 2670.2317 - val_loss: 494.3276\n",
            "Epoch 82/100\n",
            "\u001b[1m144/144\u001b[0m \u001b[32m━━━━━━━━━━━━━━━━━━━━\u001b[0m\u001b[37m\u001b[0m \u001b[1m0s\u001b[0m 3ms/step - loss: 2639.4517 - val_loss: 475.2141\n",
            "Epoch 83/100\n",
            "\u001b[1m144/144\u001b[0m \u001b[32m━━━━━━━━━━━━━━━━━━━━\u001b[0m\u001b[37m\u001b[0m \u001b[1m0s\u001b[0m 3ms/step - loss: 2712.9980 - val_loss: 516.0925\n",
            "Epoch 84/100\n",
            "\u001b[1m144/144\u001b[0m \u001b[32m━━━━━━━━━━━━━━━━━━━━\u001b[0m\u001b[37m\u001b[0m \u001b[1m0s\u001b[0m 3ms/step - loss: 2665.0186 - val_loss: 502.0737\n",
            "Epoch 85/100\n",
            "\u001b[1m144/144\u001b[0m \u001b[32m━━━━━━━━━━━━━━━━━━━━\u001b[0m\u001b[37m\u001b[0m \u001b[1m0s\u001b[0m 3ms/step - loss: 2572.3665 - val_loss: 733.4034\n",
            "Epoch 86/100\n",
            "\u001b[1m144/144\u001b[0m \u001b[32m━━━━━━━━━━━━━━━━━━━━\u001b[0m\u001b[37m\u001b[0m \u001b[1m0s\u001b[0m 3ms/step - loss: 2709.8618 - val_loss: 416.4166\n",
            "Epoch 87/100\n",
            "\u001b[1m144/144\u001b[0m \u001b[32m━━━━━━━━━━━━━━━━━━━━\u001b[0m\u001b[37m\u001b[0m \u001b[1m0s\u001b[0m 3ms/step - loss: 2732.1306 - val_loss: 519.0051\n",
            "Epoch 88/100\n",
            "\u001b[1m144/144\u001b[0m \u001b[32m━━━━━━━━━━━━━━━━━━━━\u001b[0m\u001b[37m\u001b[0m \u001b[1m0s\u001b[0m 3ms/step - loss: 2651.9683 - val_loss: 471.1819\n",
            "Epoch 89/100\n",
            "\u001b[1m144/144\u001b[0m \u001b[32m━━━━━━━━━━━━━━━━━━━━\u001b[0m\u001b[37m\u001b[0m \u001b[1m0s\u001b[0m 3ms/step - loss: 2879.9111 - val_loss: 471.0667\n",
            "Epoch 90/100\n",
            "\u001b[1m144/144\u001b[0m \u001b[32m━━━━━━━━━━━━━━━━━━━━\u001b[0m\u001b[37m\u001b[0m \u001b[1m0s\u001b[0m 3ms/step - loss: 2723.0999 - val_loss: 773.9980\n",
            "Epoch 91/100\n",
            "\u001b[1m144/144\u001b[0m \u001b[32m━━━━━━━━━━━━━━━━━━━━\u001b[0m\u001b[37m\u001b[0m \u001b[1m0s\u001b[0m 3ms/step - loss: 2668.4668 - val_loss: 583.1533\n",
            "Epoch 92/100\n",
            "\u001b[1m144/144\u001b[0m \u001b[32m━━━━━━━━━━━━━━━━━━━━\u001b[0m\u001b[37m\u001b[0m \u001b[1m0s\u001b[0m 3ms/step - loss: 2602.9614 - val_loss: 418.9911\n",
            "Epoch 93/100\n",
            "\u001b[1m144/144\u001b[0m \u001b[32m━━━━━━━━━━━━━━━━━━━━\u001b[0m\u001b[37m\u001b[0m \u001b[1m0s\u001b[0m 3ms/step - loss: 2525.6414 - val_loss: 413.0253\n",
            "Epoch 94/100\n",
            "\u001b[1m144/144\u001b[0m \u001b[32m━━━━━━━━━━━━━━━━━━━━\u001b[0m\u001b[37m\u001b[0m \u001b[1m0s\u001b[0m 3ms/step - loss: 2725.8176 - val_loss: 488.2827\n",
            "Epoch 95/100\n",
            "\u001b[1m144/144\u001b[0m \u001b[32m━━━━━━━━━━━━━━━━━━━━\u001b[0m\u001b[37m\u001b[0m \u001b[1m0s\u001b[0m 3ms/step - loss: 2821.4316 - val_loss: 484.7815\n",
            "Epoch 96/100\n",
            "\u001b[1m144/144\u001b[0m \u001b[32m━━━━━━━━━━━━━━━━━━━━\u001b[0m\u001b[37m\u001b[0m \u001b[1m0s\u001b[0m 3ms/step - loss: 2796.3323 - val_loss: 449.8774\n",
            "Epoch 97/100\n",
            "\u001b[1m144/144\u001b[0m \u001b[32m━━━━━━━━━━━━━━━━━━━━\u001b[0m\u001b[37m\u001b[0m \u001b[1m0s\u001b[0m 3ms/step - loss: 2788.9712 - val_loss: 531.8330\n",
            "Epoch 98/100\n",
            "\u001b[1m144/144\u001b[0m \u001b[32m━━━━━━━━━━━━━━━━━━━━\u001b[0m\u001b[37m\u001b[0m \u001b[1m0s\u001b[0m 3ms/step - loss: 2585.1389 - val_loss: 484.4193\n",
            "Epoch 99/100\n",
            "\u001b[1m144/144\u001b[0m \u001b[32m━━━━━━━━━━━━━━━━━━━━\u001b[0m\u001b[37m\u001b[0m \u001b[1m0s\u001b[0m 3ms/step - loss: 2645.2444 - val_loss: 555.4022\n",
            "Epoch 100/100\n",
            "\u001b[1m144/144\u001b[0m \u001b[32m━━━━━━━━━━━━━━━━━━━━\u001b[0m\u001b[37m\u001b[0m \u001b[1m0s\u001b[0m 3ms/step - loss: 2616.9714 - val_loss: 578.2072\n",
            "\u001b[1m180/180\u001b[0m \u001b[32m━━━━━━━━━━━━━━━━━━━━\u001b[0m\u001b[37m\u001b[0m \u001b[1m0s\u001b[0m 1ms/step\n",
            "\u001b[1m45/45\u001b[0m \u001b[32m━━━━━━━━━━━━━━━━━━━━\u001b[0m\u001b[37m\u001b[0m \u001b[1m0s\u001b[0m 1ms/step \n",
            "Hybrid Model - Mean Squared Error (MSE): 185.4428940556633\n",
            "Hybrid Model - R-squared (R2): 0.9807422953276206\n",
            "Hybrid Model - Mean Absolute Error (MAE): 9.433241314358181\n",
            "Hybrid Model - Root Mean Squared Error (RMSE): 13.617741885337058\n"
          ]
        }
      ],
      "source": [
        "import xgboost as xgb\n",
        "from tensorflow import keras\n",
        "\n",
        "# 1. Define and train the DNN model\n",
        "dnn_model = keras.Sequential([\n",
        "    keras.layers.Dense(128, activation='relu', input_shape=(X_train.shape[1],)),\n",
        "    keras.layers.Dropout(0.2),\n",
        "    keras.layers.Dense(64, activation='relu'),\n",
        "    keras.layers.Dropout(0.2),\n",
        "    keras.layers.Dense(1)  # Output layer for regression\n",
        "])\n",
        "\n",
        "dnn_model.compile(optimizer='adam', loss='mse')\n",
        "dnn_model.fit(X_train, y_train, epochs=100, batch_size=32, validation_split=0.2, verbose=1)\n",
        " \n",
        "# 2. Use the DNN model to generate predictions for the training and test sets\n",
        "dnn_train_predictions = dnn_model.predict(X_train)\n",
        "dnn_test_predictions = dnn_model.predict(X_test)\n",
        "\n",
        "# 3. Combine the original features with the DNN predictions\n",
        "X_train_hybrid = np.hstack((X_train, dnn_train_predictions))\n",
        "X_test_hybrid = np.hstack((X_test, dnn_test_predictions))\n",
        "\n",
        "# 4. Train the XGBoost model using the hybrid features\n",
        "xgb_model = xgb.XGBRegressor(n_estimators=100, max_depth=10, random_state=42)\n",
        "xgb_model.fit(X_train_hybrid, y_train)\n",
        "\n",
        "# 5. Make predictions with the XGBoost model\n",
        "y_pred_hybrid = xgb_model.predict(X_test_hybrid)\n",
        "\n",
        "# 6. Evaluate the hybrid model\n",
        "mse_hybrid = mean_squared_error(y_test, y_pred_hybrid)\n",
        "r2_hybrid = r2_score(y_test, y_pred_hybrid)\n",
        "mae_hybrid = mean_absolute_error(y_test, y_pred_hybrid)\n",
        "rmse_hybrid = np.sqrt(mse_hybrid)\n",
        "\n",
        "print(f\"Hybrid Model - Mean Squared Error (MSE): {mse_hybrid}\")\n",
        "print(f\"Hybrid Model - R-squared (R2): {r2_hybrid}\")\n",
        "print(f\"Hybrid Model - Mean Absolute Error (MAE): {mae_hybrid}\")\n",
        "print(f\"Hybrid Model - Root Mean Squared Error (RMSE): {rmse_hybrid}\")"
      ]
    },
    {
      "cell_type": "markdown",
      "metadata": {
        "id": "5o5afeL2i3gB"
      },
      "source": [
        "RegresionLineal"
      ]
    },
    {
      "cell_type": "code",
      "execution_count": null,
      "metadata": {
        "colab": {
          "base_uri": "https://localhost:8080/"
        },
        "id": "4DWlyYg8imFG",
        "outputId": "a5a7b238-5771-4a56-c4f3-c7e5a6517f05"
      },
      "outputs": [],
      "source": [
        "# Initialize the Linear Regression model\n",
        "model = LinearRegression()\n",
        "\n",
        "# Train the model\n",
        "model.fit(X_train, y_train)\n",
        "\n",
        "# Make predictions on the test set\n",
        "y_pred = model.predict(X_test)\n",
        "\n",
        "# Evaluate the model\n",
        "mse = mean_squared_error(y_test, y_pred)\n",
        "r2 = r2_score(y_test, y_pred)\n",
        "\n",
        "# Print the evaluation metrics\n",
        "print(f\"Mean Squared Error (MSE): {mse}\")\n",
        "print(f\"R-squared (R2): {r2}\")\n",
        "\n",
        "# Calculate MAE and MedAE\n",
        "mae = mean_absolute_error(y_test, y_pred)\n",
        "medae = median_absolute_error(y_test, y_pred)\n",
        "\n",
        "# Calculate RMSE\n",
        "rmse = np.sqrt(mean_squared_error(y_test, y_pred))\n",
        "\n",
        "# Print the evaluation metrics\n",
        "print(f\"Mean Absolute Error (MAE): {mae}\")\n",
        "print(f\"Median Absolute Error (MedAE): {medae}\")\n",
        "print(f\"Root Mean Squared Error (RMSE): {rmse}\")"
      ]
    },
    {
      "cell_type": "markdown",
      "metadata": {
        "id": "Ij1aJWMRi1Jf"
      },
      "source": [
        "Randomforest"
      ]
    },
    {
      "cell_type": "code",
      "execution_count": null,
      "metadata": {
        "id": "JFWz_dDcinPa"
      },
      "outputs": [],
      "source": [
        "# Initialize the Random Forest Regressor model\n",
        "rf_model = RandomForestRegressor(n_estimators=100, max_depth=10, random_state=42)\n",
        "\n",
        "# Train the model\n",
        "rf_model.fit(X_train, y_train)\n",
        "\n",
        "# Make predictions on the test set\n",
        "y_pred_rf = rf_model.predict(X_test)\n",
        "\n",
        "# Evaluate the model\n",
        "mse_rf = mean_squared_error(y_test, y_pred_rf)\n",
        "r2_rf = r2_score(y_test, y_pred_rf)\n",
        "\n",
        "# Print the evaluation metrics\n",
        "print(f\"Random Forest - Mean Squared Error (MSE): {mse_rf}\")\n",
        "print(f\"Random Forest - R-squared (R2): {r2_rf}\")\n",
        "\n",
        "# Calculate the Mean Absolute Error (MAE)\n",
        "mae = mean_absolute_error(y_test, y_pred_rf)\n",
        "\n",
        "# Calculate the Median Absolute Error (MedAE)\n",
        "medae = median_absolute_error(y_test, y_pred_rf)\n",
        "\n",
        "# Calculate the Root Mean Squared Error (RMSE)\n",
        "rmse = np.sqrt(mean_squared_error(y_test, y_pred_rf))\n",
        "\n",
        "# Print the calculated MAE, MedAE, and RMSE values.\n",
        "print(f\"Mean Absolute Error (MAE): {mae}\")\n",
        "print(f\"Median Absolute Error (MedAE): {medae}\")\n",
        "print(f\"Root Mean Squared Error (RMSE): {rmse}\")"
      ]
    },
    {
      "cell_type": "markdown",
      "metadata": {
        "id": "neMsSylpjGBX"
      },
      "source": [
        "Hiperparametros"
      ]
    },
    {
      "cell_type": "code",
      "execution_count": null,
      "metadata": {
        "id": "D1P61HkTjG8y"
      },
      "outputs": [],
      "source": [
        "# Define la cuadrícula de hiperparámetros para buscar\n",
        "param_grid = {\n",
        "    'n_estimators': [50, 100, 200],\n",
        "    'max_depth': [5, 10, 15],\n",
        "}\n",
        "\n",
        "# Crea un objeto GridSearchCV\n",
        "grid_search = GridSearchCV(estimator=rf_model, param_grid=param_grid, cv=5, scoring='neg_mean_squared_error')\n",
        "\n",
        "# Ajusta el GridSearchCV a los datos de entrenamiento\n",
        "grid_search.fit(X_train_final, y_train_final)\n",
        "\n",
        "# Obtén el mejor modelo\n",
        "best_model = grid_search.best_estimator_\n",
        "\n",
        "# Evalúa el mejor modelo en los datos de prueba\n",
        "y_pred_best = best_model.predict(X_test)\n",
        "mse_best = mean_squared_error(y_test, y_pred_best)\n",
        "r2_best = r2_score(y_test, y_pred_best)\n",
        "\n",
        "# Imprime las métricas de evaluación\n",
        "print(f\"Mejor modelo - Error cuadrático medio (MSE): {mse_best}\")\n",
        "print(f\"Mejor modelo - R-cuadrado (R2): {r2_best}\")"
      ]
    },
    {
      "cell_type": "markdown",
      "metadata": {
        "id": "527fPNfZM8uw"
      },
      "source": [
        "Red neuronal"
      ]
    },
    {
      "cell_type": "code",
      "execution_count": null,
      "metadata": {
        "colab": {
          "base_uri": "https://localhost:8080/",
          "height": 1000
        },
        "id": "T5A5jHvBM-6z",
        "outputId": "4bbb95e2-8f52-4f99-e2d2-c3effd8a7654"
      },
      "outputs": [],
      "source": [
        "# 1. Definir el modelo de la red neuronal\n",
        "model = keras.Sequential([\n",
        "    keras.layers.Dense(128, activation='relu', input_shape=(X_train.shape[1],)),\n",
        "    keras.layers.Dropout(0.2),\n",
        "    keras.layers.Dense(64, activation='relu'),\n",
        "    keras.layers.Dropout(0.2),\n",
        "    keras.layers.Dense(1)  # Capa de salida para regresión\n",
        "])\n",
        "\n",
        "# 2. Compilar el modelo\n",
        "model.compile(optimizer='adam', loss='mse')  # Usamos 'mse' (error cuadrático medio) para regresión\n",
        "\n",
        "# 3. Entrenar el modelo\n",
        "history = model.fit(X_train, y_train, epochs=100, batch_size=32, validation_split=0.2, verbose=1)\n",
        "\n",
        "# 4. Realizar predicciones\n",
        "y_pred = model.predict(X_test)\n",
        "\n",
        "# 5. Calcular métricas de evaluación\n",
        "mse = mean_squared_error(y_test, y_pred)\n",
        "mae = mean_absolute_error(y_test, y_pred)\n",
        "r2 = r2_score(y_test, y_pred)\n",
        "\n",
        "print(f'MSE: {mse}')\n",
        "print(f'MAE: {mae}')\n",
        "print(f'R2: {r2}')\n",
        "\n",
        "# Opcional: Graficar la pérdida durante el entrenamiento\n",
        "import matplotlib.pyplot as plt\n",
        "\n",
        "plt.plot(history.history['loss'], label='Training Loss')\n",
        "plt.plot(history.history['val_loss'], label='Validation Loss')\n",
        "plt.xlabel('Epoch')\n",
        "plt.ylabel('Loss')\n",
        "plt.legend()\n",
        "plt.show()"
      ]
    },
    {
      "cell_type": "markdown",
      "metadata": {
        "id": "eZEFmzRHNALy"
      },
      "source": [
        "Red neuronal con LSTM"
      ]
    },
    {
      "cell_type": "code",
      "execution_count": null,
      "metadata": {
        "id": "RT6_1ENcT-Mn"
      },
      "outputs": [],
      "source": [
        "df.head()\n"
      ]
    },
    {
      "cell_type": "code",
      "execution_count": null,
      "metadata": {
        "id": "LiFWAHohNDJo"
      },
      "outputs": [],
      "source": [
        "# 1. Preparar datos para LSTM (reshape a [muestras, pasos de tiempo, características])\n",
        "X_train_reshaped = np.reshape(X_train, (X_train.shape[0], 1, X_train.shape[1]))\n",
        "X_test_reshaped = np.reshape(X_test, (X_test.shape[0], 1, X_test.shape[1]))\n",
        "\n",
        "# 2. Definir el modelo LSTM\n",
        "model = keras.Sequential([\n",
        "    keras.layers.LSTM(50, activation='relu', input_shape=(X_train_reshaped.shape[1], X_train_reshaped.shape[2])),\n",
        "    keras.layers.Dense(1)\n",
        "])\n",
        "\n",
        "# 3. Compilar y entrenar el modelo\n",
        "model.compile(optimizer='adam', loss='mse')\n",
        "model.fit(X_train_reshaped, y_train, epochs=100, batch_size=32, verbose=1)\n",
        "\n",
        "# 4. Realizar predicciones\n",
        "y_pred = model.predict(X_test_reshaped)\n",
        "\n",
        "# 5. Evaluar el modelo\n",
        "# (calcula métricas como MSE, MAE, etc.)"
      ]
    }
  ],
  "metadata": {
    "colab": {
      "provenance": [],
      "include_colab_link": true
    },
    "kernelspec": {
      "display_name": "Python 3",
      "language": "python",
      "name": "python3"
    },
    "language_info": {
      "codemirror_mode": {
        "name": "ipython",
        "version": 3
      },
      "file_extension": ".py",
      "mimetype": "text/x-python",
      "name": "python",
      "nbconvert_exporter": "python",
      "pygments_lexer": "ipython3",
      "version": "3.12.9"
    }
  },
  "nbformat": 4,
  "nbformat_minor": 0
}