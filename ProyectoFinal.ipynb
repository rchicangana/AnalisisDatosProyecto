{
  "nbformat": 4,
  "nbformat_minor": 0,
  "metadata": {
    "colab": {
      "provenance": [],
      "authorship_tag": "ABX9TyOj0rtM8g8vSTddzaPk0PXH",
      "include_colab_link": true
    },
    "kernelspec": {
      "name": "python3",
      "display_name": "Python 3"
    },
    "language_info": {
      "name": "python"
    }
  },
  "cells": [
    {
      "cell_type": "markdown",
      "metadata": {
        "id": "view-in-github",
        "colab_type": "text"
      },
      "source": [
        "<a href=\"https://colab.research.google.com/github/rchicangana/AnalisisDatosProyecto/blob/main/ProyectoFinal.ipynb\" target=\"_parent\"><img src=\"https://colab.research.google.com/assets/colab-badge.svg\" alt=\"Open In Colab\"/></a>"
      ]
    },
    {
      "cell_type": "markdown",
      "source": [
        "# 1  Introduccion\n"
      ],
      "metadata": {
        "id": "yVIuGSCNquud"
      }
    },
    {
      "cell_type": "markdown",
      "source": [
        "# 2  Contexto\n"
      ],
      "metadata": {
        "id": "qyGVSbOMq_0K"
      }
    },
    {
      "cell_type": "markdown",
      "source": [
        "## 2.1  Descripción de los campos\n"
      ],
      "metadata": {
        "id": "LvcVK9n2rB4e"
      }
    },
    {
      "cell_type": "markdown",
      "source": [
        "# 3  Análisis exploratorio\n"
      ],
      "metadata": {
        "id": "yUTgDLYErbbx"
      }
    },
    {
      "cell_type": "markdown",
      "source": [
        "## 3.1  Análisis de estructura\n"
      ],
      "metadata": {
        "id": "d1t0tE05rdWs"
      }
    },
    {
      "cell_type": "markdown",
      "source": [
        "## 3.2  Análisis de variables categóricas\n"
      ],
      "metadata": {
        "id": "u3l8_9rgre7O"
      }
    },
    {
      "cell_type": "markdown",
      "source": [
        "## 3.3  Análisis de variables enteras\n"
      ],
      "metadata": {
        "id": "h5KkK9jpriLJ"
      }
    },
    {
      "cell_type": "markdown",
      "source": [
        "## 3.4  Análisis de variables continuas"
      ],
      "metadata": {
        "id": "1-e9dPTErjy_"
      }
    },
    {
      "cell_type": "markdown",
      "source": [
        "### 3.4.1  Analisis de outliers\n"
      ],
      "metadata": {
        "id": "wwMEHBMHrlkq"
      }
    },
    {
      "cell_type": "markdown",
      "source": [
        "#### 3.4.1.1  Outliers de ingresos\n"
      ],
      "metadata": {
        "id": "hjDTFXTtrnTK"
      }
    },
    {
      "cell_type": "markdown",
      "source": [
        "#### 3.4.1.2  Outliers de deudas y créditos\n"
      ],
      "metadata": {
        "id": "cuMIXkO4rpJ3"
      }
    },
    {
      "cell_type": "markdown",
      "source": [
        "### 3.4.2  Conclusiones Outliers\n"
      ],
      "metadata": {
        "id": "KnTW3muRrq3c"
      }
    },
    {
      "cell_type": "markdown",
      "source": [
        "# 4  Limpieza de datos\n"
      ],
      "metadata": {
        "id": "Z5CYtt8prsb-"
      }
    },
    {
      "cell_type": "markdown",
      "source": [
        "## 4.1  Division de datasets\n"
      ],
      "metadata": {
        "id": "Jkrf4VHjrvIS"
      }
    },
    {
      "cell_type": "markdown",
      "source": [
        "## 4.2  Ingreso bruto menor a ingreso líquido\n"
      ],
      "metadata": {
        "id": "yD_vrkUrrwvL"
      }
    },
    {
      "cell_type": "markdown",
      "source": [
        "## 4.3  Estandarización\n"
      ],
      "metadata": {
        "id": "zKLnaAwerzG8"
      }
    },
    {
      "cell_type": "markdown",
      "source": [
        "## 4.4  Imputación\n"
      ],
      "metadata": {
        "id": "iGpQCMjnr0lo"
      }
    },
    {
      "cell_type": "markdown",
      "source": [
        "# 5  Feature Engineering\n"
      ],
      "metadata": {
        "id": "pxvOOU-4r2BX"
      }
    },
    {
      "cell_type": "markdown",
      "source": [
        "## 5.1  Dummificar variables\n"
      ],
      "metadata": {
        "id": "Qyx0MGtar3ou"
      }
    },
    {
      "cell_type": "markdown",
      "source": [
        "## 5.2  PCA\n"
      ],
      "metadata": {
        "id": "bkmP9Z0Qr5Z3"
      }
    },
    {
      "cell_type": "markdown",
      "source": [
        "## 5.3  LDA\n"
      ],
      "metadata": {
        "id": "zCMWA4spr63k"
      }
    },
    {
      "cell_type": "markdown",
      "source": [
        "## 5.4  Clustering\n"
      ],
      "metadata": {
        "id": "vYEIsYPor8Y1"
      }
    },
    {
      "cell_type": "markdown",
      "source": [
        "# 6  Lasso para selección de variables\n"
      ],
      "metadata": {
        "id": "Laya-7Q_r91M"
      }
    },
    {
      "cell_type": "markdown",
      "source": [
        "# 7  Data Pipeline\n"
      ],
      "metadata": {
        "id": "Ic3-1aFzr-VE"
      }
    },
    {
      "cell_type": "markdown",
      "source": [
        "# 8  Modelamiento"
      ],
      "metadata": {
        "id": "ENLHlVusr-pH"
      }
    }
  ]
}