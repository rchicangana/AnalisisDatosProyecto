{
  "nbformat": 4,
  "nbformat_minor": 0,
  "metadata": {
    "colab": {
      "provenance": [],
      "authorship_tag": "ABX9TyMxHIQnzFDRXJmYUfGwUqhA",
      "include_colab_link": true
    },
    "kernelspec": {
      "name": "python3",
      "display_name": "Python 3"
    },
    "language_info": {
      "name": "python"
    }
  },
  "cells": [
    {
      "cell_type": "markdown",
      "metadata": {
        "id": "view-in-github",
        "colab_type": "text"
      },
      "source": [
        "<a href=\"https://colab.research.google.com/github/rchicangana/AnalisisDatosProyecto/blob/main/ProyectoFinal.ipynb\" target=\"_parent\"><img src=\"https://colab.research.google.com/assets/colab-badge.svg\" alt=\"Open In Colab\"/></a>"
      ]
    },
    {
      "cell_type": "markdown",
      "source": [
        "# 1  Introduccion\n",
        "\n",
        "El análisis exploratorio de datos es una etapa fundamental en cualquier proyecto de Inteligencia Artificial y Ciencia de Datos, puesto que permite entender las características y patrones en los datos, así como identificar relaciones entre variables.\n",
        "\n",
        "A continuación se presenta un estudio basado en datos de consumo de energía eléctrica horaria registrados en Cali, Colombia, junto con las temperaturas correspondientes a cada hora. El objetivo principal es explorar la relación entre estas dos variables y, posteriormente, aplicar diferentes modelos para realizar el pronósticos de corto plazo del demanda de energía."
      ],
      "metadata": {
        "id": "yVIuGSCNquud"
      }
    },
    {
      "cell_type": "markdown",
      "source": [
        "# 2  Contexto\n",
        "\n",
        "La demanda de energía eléctrica en una ciudad se ve inlfuenciada por muchos factores, como la temperatura, factores sociales, cronograma de produccion de grandes clientes, entre otros.\n",
        "\n",
        "En regiones con climas variables, como es el caso de muchas ciudades Colombianas, la demanda es afectada por el uso intensivo de sistemas de refrigeración en épocas calurosas.\n",
        "\n",
        "Los datos utilizados en este análisis incluyen mediciones horarias del consumo de energía y la temperatura registrada en la misma franja horaria, tipos de dia, mes y año. Lo que permite explorar la correlación entre estas variables.\n",
        "\n",
        "Adicionalmente, se busca evaluar el desempeño de diferentes modelos como regresiones lineales, redes neuronales y modelos basados en árboles de decisión, para predecir el consumo de energía en un horizonte de corto plazo."
      ],
      "metadata": {
        "id": "qyGVSbOMq_0K"
      }
    },
    {
      "cell_type": "markdown",
      "source": [
        "## 2.1  Descripción de los campos\n",
        "\n",
        "- FECHA: Fecha en formato ISO de la lectura del consumo\n",
        "- TEMPERATURA: Temperatura en grados Centigrados al momento de la toma del dato\n",
        "- CONSUMO: Variable objetvio medido en MVA"
      ],
      "metadata": {
        "id": "LvcVK9n2rB4e"
      }
    },
    {
      "cell_type": "code",
      "source": [
        "import numpy as np\n",
        "import pandas as pd\n",
        "import seaborn as sns\n",
        "import matplotlib.pyplot as plt\n",
        "from sklearn.preprocessing import MinMaxScaler\n",
        "from sklearn.model_selection import train_test_split\n",
        "from sklearn.linear_model import LinearRegression\n",
        "from sklearn.metrics import mean_squared_error, r2_score, mean_absolute_error, median_absolute_error\n",
        "from sklearn.neural_network import MLPRegressor\n",
        "from sklearn.tree import DecisionTreeRegressor\n",
        "from sklearn.ensemble import RandomForestRegressor\n",
        "from sklearn.model_selection import GridSearchCV\n",
        "\n",
        "import holidays\n",
        "\n",
        "df = pd.read_csv('datasetEmcali.csv')\n",
        "print(df.head())\n",
        "print(df.info())"
      ],
      "metadata": {
        "colab": {
          "base_uri": "https://localhost:8080/"
        },
        "collapsed": true,
        "id": "2eSjd_Fz7WiZ",
        "outputId": "20488295-ae52-4d91-cdc3-9609ad313a0a"
      },
      "execution_count": 15,
      "outputs": [
        {
          "output_type": "stream",
          "name": "stdout",
          "text": [
            "            FECHA  TEMPERATURA  CONSUMO\n",
            "0  12/1/2017 0:00         27.9    409.0\n",
            "1  12/1/2017 1:00         29.0    387.0\n",
            "2  12/1/2017 2:00         29.1    378.0\n",
            "3  12/1/2017 3:00         28.2    370.0\n",
            "4  12/1/2017 4:00         26.7    364.0\n",
            "<class 'pandas.core.frame.DataFrame'>\n",
            "RangeIndex: 29808 entries, 0 to 29807\n",
            "Data columns (total 3 columns):\n",
            " #   Column       Non-Null Count  Dtype  \n",
            "---  ------       --------------  -----  \n",
            " 0   FECHA        29520 non-null  object \n",
            " 1   TEMPERATURA  29328 non-null  float64\n",
            " 2   CONSUMO      29520 non-null  float64\n",
            "dtypes: float64(2), object(1)\n",
            "memory usage: 698.8+ KB\n",
            "None\n"
          ]
        }
      ]
    },
    {
      "cell_type": "markdown",
      "source": [
        "# 3  Análisis exploratorio\n"
      ],
      "metadata": {
        "id": "yUTgDLYErbbx"
      }
    },
    {
      "cell_type": "markdown",
      "source": [
        "## 3.1  Análisis de estructura\n"
      ],
      "metadata": {
        "id": "d1t0tE05rdWs"
      }
    },
    {
      "cell_type": "code",
      "source": [
        "df['FECHA'] = pd.to_datetime(df['FECHA'], errors='coerce')\n",
        "df['CONSUMO'] = pd.to_numeric(df['CONSUMO'], errors='coerce')\n",
        "df['TEMPERATURA'] = pd.to_numeric(df['TEMPERATURA'], errors='coerce')\n",
        "\n",
        "df = df.dropna(subset=['FECHA']) # Elimina las filas donde 'FECHA' es NaN\n",
        "                                 # final del data set, no tienen informacion\n",
        "\n",
        "def es_festivo_colombia(fecha):\n",
        "    \"\"\"Verifica si una fecha es festivo en Colombia.\"\"\"\n",
        "    co_holidays = holidays.CO(years=fecha.year)\n",
        "    return fecha in co_holidays\n",
        "df['Es_Festivo'] = df['FECHA'].apply(es_festivo_colombia)\n",
        "\n",
        "# Extract numerical features from 'FECHA'\n",
        "df['Year'] = df['FECHA'].dt.year\n",
        "df['Month'] = df['FECHA'].dt.month\n",
        "df['Day'] = df['FECHA'].dt.day\n",
        "df['Hour'] = df['FECHA'].dt.hour\n",
        "df['Dayofweek'] = df['FECHA'].dt.dayofweek\n",
        "df['Dayofyear'] = df['FECHA'].dt.dayofyear\n",
        "df['Weekofyear'] = df['FECHA'].dt.isocalendar().week\n",
        "df['Is_month_end'] = df['FECHA'].dt.is_month_end\n",
        "df['Is_month_start'] = df['FECHA'].dt.is_month_start\n",
        "df['Is_quarter_end'] = df['FECHA'].dt.is_quarter_end\n",
        "df['Is_quarter_start'] = df['FECHA'].dt.is_quarter_start\n",
        "df['Is_year_end'] = df['FECHA'].dt.is_year_end\n",
        "df['Is_year_start'] = df['FECHA'].dt.is_year_start\n",
        "\n",
        "print(\"Forma de lo datos:\", df.shape)\n",
        "print(\"\\nTipo de datos por columnas:\\n\\n\", df.dtypes)\n",
        "print(\"\\nEstadisticas descriptivas:\\n\\n\", df.describe())\n",
        "print(\"\\nValores Faltantes:\\n\\n\", df.isnull().sum())\n",
        "print(\"\\nValores Faltantes(%):\\n\\n\", (df.isnull().sum() / len(df)) * 100)"
      ],
      "metadata": {
        "id": "HXUvfE-D9Ngq",
        "outputId": "ff6bcc49-aecd-4bd6-9db1-b3c50c8ae0eb",
        "colab": {
          "base_uri": "https://localhost:8080/"
        }
      },
      "execution_count": 17,
      "outputs": [
        {
          "output_type": "stream",
          "name": "stdout",
          "text": [
            "Forma de lo datos: (29520, 17)\n",
            "\n",
            "Tipo de datos por columnas:\n",
            "\n",
            " FECHA               datetime64[ns]\n",
            "TEMPERATURA                float64\n",
            "CONSUMO                    float64\n",
            "Es_Festivo                    bool\n",
            "Year                         int32\n",
            "Month                        int32\n",
            "Day                          int32\n",
            "Hour                         int32\n",
            "Dayofweek                    int32\n",
            "Dayofyear                    int32\n",
            "Weekofyear                  UInt32\n",
            "Is_month_end                  bool\n",
            "Is_month_start                bool\n",
            "Is_quarter_end                bool\n",
            "Is_quarter_start              bool\n",
            "Is_year_end                   bool\n",
            "Is_year_start                 bool\n",
            "dtype: object\n",
            "\n",
            "Estadisticas descriptivas:\n",
            "\n",
            "                      FECHA   TEMPERATURA       CONSUMO          Year  \\\n",
            "count                29520  29328.000000  29520.000000  29520.000000   \n",
            "mean   2019-08-07 23:30:00     24.130615    455.574139   2019.117886   \n",
            "min    2017-12-01 00:00:00     16.100000    227.000000   2017.000000   \n",
            "25%    2018-10-04 11:45:00     21.700000    372.000000   2018.000000   \n",
            "50%    2019-08-07 23:30:00     23.600000    447.000000   2019.000000   \n",
            "75%    2020-06-10 11:15:00     26.300000    541.000000   2020.000000   \n",
            "max    2021-04-13 23:00:00     34.000000    676.000000   2021.000000   \n",
            "std                    NaN      3.169716     95.616579      1.008077   \n",
            "\n",
            "              Month          Day          Hour     Dayofweek     Dayofyear  \\\n",
            "count  29520.000000  29520.00000  29520.000000  29520.000000  29520.000000   \n",
            "mean       6.302439     15.63252     11.500000      3.000813    176.387805   \n",
            "min        1.000000      1.00000      0.000000      0.000000      1.000000   \n",
            "25%        3.000000      8.00000      5.750000      1.000000     77.000000   \n",
            "50%        6.000000     16.00000     11.500000      3.000000    171.000000   \n",
            "75%        9.000000     23.00000     17.250000      5.000000    274.000000   \n",
            "max       12.000000     31.00000     23.000000      6.000000    366.000000   \n",
            "std        3.594715      8.80600      6.922304      2.001456    109.924510   \n",
            "\n",
            "       Weekofyear  \n",
            "count     29520.0  \n",
            "mean    25.717073  \n",
            "min           1.0  \n",
            "25%          11.0  \n",
            "50%          25.0  \n",
            "75%          40.0  \n",
            "max          53.0  \n",
            "std     15.745173  \n",
            "\n",
            "Valores Faltantes:\n",
            "\n",
            " FECHA                 0\n",
            "TEMPERATURA         192\n",
            "CONSUMO               0\n",
            "Es_Festivo            0\n",
            "Year                  0\n",
            "Month                 0\n",
            "Day                   0\n",
            "Hour                  0\n",
            "Dayofweek             0\n",
            "Dayofyear             0\n",
            "Weekofyear            0\n",
            "Is_month_end          0\n",
            "Is_month_start        0\n",
            "Is_quarter_end        0\n",
            "Is_quarter_start      0\n",
            "Is_year_end           0\n",
            "Is_year_start         0\n",
            "dtype: int64\n",
            "\n",
            "Valores Faltantes(%):\n",
            "\n",
            " FECHA               0.000000\n",
            "TEMPERATURA         0.650407\n",
            "CONSUMO             0.000000\n",
            "Es_Festivo          0.000000\n",
            "Year                0.000000\n",
            "Month               0.000000\n",
            "Day                 0.000000\n",
            "Hour                0.000000\n",
            "Dayofweek           0.000000\n",
            "Dayofyear           0.000000\n",
            "Weekofyear          0.000000\n",
            "Is_month_end        0.000000\n",
            "Is_month_start      0.000000\n",
            "Is_quarter_end      0.000000\n",
            "Is_quarter_start    0.000000\n",
            "Is_year_end         0.000000\n",
            "Is_year_start       0.000000\n",
            "dtype: float64\n"
          ]
        }
      ]
    },
    {
      "cell_type": "markdown",
      "source": [
        "## 3.2  Análisis de variables categóricas\n"
      ],
      "metadata": {
        "id": "u3l8_9rgre7O"
      }
    },
    {
      "cell_type": "markdown",
      "source": [
        "## 3.3  Análisis de variables enteras\n"
      ],
      "metadata": {
        "id": "h5KkK9jpriLJ"
      }
    },
    {
      "cell_type": "markdown",
      "source": [
        "## 3.4  Análisis de variables continuas"
      ],
      "metadata": {
        "id": "1-e9dPTErjy_"
      }
    },
    {
      "cell_type": "markdown",
      "source": [
        "### 3.4.1  Analisis de outliers\n"
      ],
      "metadata": {
        "id": "wwMEHBMHrlkq"
      }
    },
    {
      "cell_type": "markdown",
      "source": [
        "### 3.4.2  Conclusiones Outliers\n"
      ],
      "metadata": {
        "id": "KnTW3muRrq3c"
      }
    },
    {
      "cell_type": "markdown",
      "source": [
        "# 4  Limpieza de datos\n"
      ],
      "metadata": {
        "id": "Z5CYtt8prsb-"
      }
    },
    {
      "cell_type": "markdown",
      "source": [
        "## 4.1  Division de datasets\n"
      ],
      "metadata": {
        "id": "Jkrf4VHjrvIS"
      }
    },
    {
      "cell_type": "markdown",
      "source": [
        "## 4.2  Estandarización\n"
      ],
      "metadata": {
        "id": "zKLnaAwerzG8"
      }
    },
    {
      "cell_type": "markdown",
      "source": [
        "## 4.3  Imputación\n"
      ],
      "metadata": {
        "id": "iGpQCMjnr0lo"
      }
    },
    {
      "cell_type": "markdown",
      "source": [
        "# 5  Feature Engineering\n"
      ],
      "metadata": {
        "id": "pxvOOU-4r2BX"
      }
    },
    {
      "cell_type": "markdown",
      "source": [
        "## 5.1  Dummificar variables\n"
      ],
      "metadata": {
        "id": "Qyx0MGtar3ou"
      }
    },
    {
      "cell_type": "markdown",
      "source": [
        "## 5.2  PCA\n"
      ],
      "metadata": {
        "id": "bkmP9Z0Qr5Z3"
      }
    },
    {
      "cell_type": "markdown",
      "source": [
        "## 5.3  LDA\n"
      ],
      "metadata": {
        "id": "zCMWA4spr63k"
      }
    },
    {
      "cell_type": "markdown",
      "source": [
        "## 5.4  Clustering\n"
      ],
      "metadata": {
        "id": "vYEIsYPor8Y1"
      }
    },
    {
      "cell_type": "markdown",
      "source": [
        "# 6 Data Pipeline\n"
      ],
      "metadata": {
        "id": "Ic3-1aFzr-VE"
      }
    },
    {
      "cell_type": "markdown",
      "source": [
        "# 7  Modelamiento"
      ],
      "metadata": {
        "id": "ENLHlVusr-pH"
      }
    }
  ]
}