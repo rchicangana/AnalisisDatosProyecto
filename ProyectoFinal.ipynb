{
  "nbformat": 4,
  "nbformat_minor": 0,
  "metadata": {
    "colab": {
      "provenance": [],
      "authorship_tag": "ABX9TyPFS5COE+tOqXG3pBn3GKcQ",
      "include_colab_link": true
    },
    "kernelspec": {
      "name": "python3",
      "display_name": "Python 3"
    },
    "language_info": {
      "name": "python"
    }
  },
  "cells": [
    {
      "cell_type": "markdown",
      "metadata": {
        "id": "view-in-github",
        "colab_type": "text"
      },
      "source": [
        "<a href=\"https://colab.research.google.com/github/rchicangana/AnalisisDatosProyecto/blob/main/ProyectoFinal.ipynb\" target=\"_parent\"><img src=\"https://colab.research.google.com/assets/colab-badge.svg\" alt=\"Open In Colab\"/></a>"
      ]
    },
    {
      "cell_type": "markdown",
      "source": [
        "# 1  Introduccion\n",
        "\n",
        "El análisis exploratorio de datos es una etapa fundamental en cualquier proyecto de Inteligencia Artificial y Ciencia de Datos, puesto que permite entender las características y patrones en los datos, así como identificar relaciones entre variables.\n",
        "\n",
        "A continuación se presenta un estudio basado en datos de consumo de energía eléctrica horaria registrados en Cali, Colombia, junto con las temperaturas correspondientes a cada hora. El objetivo principal es explorar la relación entre estas dos variables y, posteriormente, aplicar diferentes modelos para realizar el pronósticos de corto plazo del demanda de energía."
      ],
      "metadata": {
        "id": "yVIuGSCNquud"
      }
    },
    {
      "cell_type": "markdown",
      "source": [
        "# 2  Contexto\n",
        "\n",
        "La demanda de energía eléctrica en una ciudad se ve inlfuenciada por muchos factores, como la temperatura, factores sociales, cronograma de produccion de grandes clientes, entre otros.\n",
        "\n",
        "En regiones con climas variables, como es el caso de muchas ciudades Colombianas, la demanda es afectada por el uso intensivo de sistemas de refrigeración en épocas calurosas.\n",
        "\n",
        "Los datos utilizados en este análisis incluyen mediciones horarias del consumo de energía y la temperatura registrada en la misma franja horaria, tipos de dia, mes y año. Lo que permite explorar la correlación entre estas variables.\n",
        "\n",
        "Adicionalmente, se busca evaluar el desempeño de diferentes modelos como regresiones lineales, redes neuronales y modelos basados en árboles de decisión, para predecir el consumo de energía en un horizonte de corto plazo."
      ],
      "metadata": {
        "id": "qyGVSbOMq_0K"
      }
    },
    {
      "cell_type": "markdown",
      "source": [
        "## 2.1  Descripción de los campos\n",
        "\n",
        "- FECHA: Fecha en formato ISO de la lectura del consumo\n",
        "- TEMPERATURA: Temperatura en grados Centigrados al momento de la toma del dato\n",
        "- CONSUMO: Variable objetvio medido en MVA"
      ],
      "metadata": {
        "id": "LvcVK9n2rB4e"
      }
    },
    {
      "cell_type": "code",
      "source": [
        "import numpy as np\n",
        "import pandas as pd\n",
        "import seaborn as sns\n",
        "import matplotlib.pyplot as plt\n",
        "from sklearn.preprocessing import MinMaxScaler\n",
        "from sklearn.model_selection import train_test_split\n",
        "from sklearn.linear_model import LinearRegression\n",
        "from sklearn.metrics import mean_squared_error, r2_score, mean_absolute_error, median_absolute_error\n",
        "from sklearn.neural_network import MLPRegressor\n",
        "from sklearn.tree import DecisionTreeRegressor\n",
        "from sklearn.ensemble import RandomForestRegressor\n",
        "from sklearn.model_selection import GridSearchCV"
      ],
      "metadata": {
        "id": "2eSjd_Fz7WiZ"
      },
      "execution_count": 1,
      "outputs": []
    },
    {
      "cell_type": "markdown",
      "source": [
        "# 3  Análisis exploratorio\n"
      ],
      "metadata": {
        "id": "yUTgDLYErbbx"
      }
    },
    {
      "cell_type": "markdown",
      "source": [
        "## 3.1  Análisis de estructura\n"
      ],
      "metadata": {
        "id": "d1t0tE05rdWs"
      }
    },
    {
      "cell_type": "markdown",
      "source": [
        "## 3.2  Análisis de variables categóricas\n"
      ],
      "metadata": {
        "id": "u3l8_9rgre7O"
      }
    },
    {
      "cell_type": "markdown",
      "source": [
        "## 3.3  Análisis de variables enteras\n"
      ],
      "metadata": {
        "id": "h5KkK9jpriLJ"
      }
    },
    {
      "cell_type": "markdown",
      "source": [
        "## 3.4  Análisis de variables continuas"
      ],
      "metadata": {
        "id": "1-e9dPTErjy_"
      }
    },
    {
      "cell_type": "markdown",
      "source": [
        "### 3.4.1  Analisis de outliers\n"
      ],
      "metadata": {
        "id": "wwMEHBMHrlkq"
      }
    },
    {
      "cell_type": "markdown",
      "source": [
        "### 3.4.2  Conclusiones Outliers\n"
      ],
      "metadata": {
        "id": "KnTW3muRrq3c"
      }
    },
    {
      "cell_type": "markdown",
      "source": [
        "# 4  Limpieza de datos\n"
      ],
      "metadata": {
        "id": "Z5CYtt8prsb-"
      }
    },
    {
      "cell_type": "markdown",
      "source": [
        "## 4.1  Division de datasets\n"
      ],
      "metadata": {
        "id": "Jkrf4VHjrvIS"
      }
    },
    {
      "cell_type": "markdown",
      "source": [
        "## 4.2  Estandarización\n"
      ],
      "metadata": {
        "id": "zKLnaAwerzG8"
      }
    },
    {
      "cell_type": "markdown",
      "source": [
        "## 4.3  Imputación\n"
      ],
      "metadata": {
        "id": "iGpQCMjnr0lo"
      }
    },
    {
      "cell_type": "markdown",
      "source": [
        "# 5  Feature Engineering\n"
      ],
      "metadata": {
        "id": "pxvOOU-4r2BX"
      }
    },
    {
      "cell_type": "markdown",
      "source": [
        "## 5.1  Dummificar variables\n"
      ],
      "metadata": {
        "id": "Qyx0MGtar3ou"
      }
    },
    {
      "cell_type": "markdown",
      "source": [
        "## 5.2  PCA\n"
      ],
      "metadata": {
        "id": "bkmP9Z0Qr5Z3"
      }
    },
    {
      "cell_type": "markdown",
      "source": [
        "## 5.3  LDA\n"
      ],
      "metadata": {
        "id": "zCMWA4spr63k"
      }
    },
    {
      "cell_type": "markdown",
      "source": [
        "## 5.4  Clustering\n"
      ],
      "metadata": {
        "id": "vYEIsYPor8Y1"
      }
    },
    {
      "cell_type": "markdown",
      "source": [
        "# 6 Data Pipeline\n"
      ],
      "metadata": {
        "id": "Ic3-1aFzr-VE"
      }
    },
    {
      "cell_type": "markdown",
      "source": [
        "# 7  Modelamiento"
      ],
      "metadata": {
        "id": "ENLHlVusr-pH"
      }
    }
  ]
}